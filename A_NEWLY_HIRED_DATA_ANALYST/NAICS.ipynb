{
 "cells": [
  {
   "cell_type": "code",
   "execution_count": 2,
   "metadata": {},
   "outputs": [],
   "source": [
    "import pandas as pd\n",
    "import os\n",
    "import glob\n",
    "import matplotlib.pyplot as plt\n",
    "m=os.getcwd()"
   ]
  },
  {
   "cell_type": "markdown",
   "metadata": {},
   "source": [
    "# 2 digit NAICS Exploration And Analysis"
   ]
  },
  {
   "cell_type": "code",
   "execution_count": 3,
   "metadata": {
    "scrolled": true
   },
   "outputs": [
    {
     "name": "stdout",
     "output_type": "stream",
     "text": [
      "['C:\\\\Users\\\\Drish\\\\Documents\\\\A_NEWLY_HIRED_DATA_ANALYST\\\\RTRA_Employ_2NAICS_00_05.csv', 'C:\\\\Users\\\\Drish\\\\Documents\\\\A_NEWLY_HIRED_DATA_ANALYST\\\\RTRA_Employ_2NAICS_06_10.csv', 'C:\\\\Users\\\\Drish\\\\Documents\\\\A_NEWLY_HIRED_DATA_ANALYST\\\\RTRA_Employ_2NAICS_11_15.csv', 'C:\\\\Users\\\\Drish\\\\Documents\\\\A_NEWLY_HIRED_DATA_ANALYST\\\\RTRA_Employ_2NAICS_16_20.csv', 'C:\\\\Users\\\\Drish\\\\Documents\\\\A_NEWLY_HIRED_DATA_ANALYST\\\\RTRA_Employ_2NAICS_97_99.csv']\n"
     ]
    }
   ],
   "source": [
    "joined_files = os.path.join(m, \"*2NAICS*.csv\")\n",
    "joined_list = glob.glob(joined_files)\n",
    "print(joined_list)"
   ]
  },
  {
   "cell_type": "code",
   "execution_count": 4,
   "metadata": {
    "scrolled": true
   },
   "outputs": [
    {
     "data": {
      "text/html": [
       "<div>\n",
       "<style scoped>\n",
       "    .dataframe tbody tr th:only-of-type {\n",
       "        vertical-align: middle;\n",
       "    }\n",
       "\n",
       "    .dataframe tbody tr th {\n",
       "        vertical-align: top;\n",
       "    }\n",
       "\n",
       "    .dataframe thead th {\n",
       "        text-align: right;\n",
       "    }\n",
       "</style>\n",
       "<table border=\"1\" class=\"dataframe\">\n",
       "  <thead>\n",
       "    <tr style=\"text-align: right;\">\n",
       "      <th></th>\n",
       "      <th>SYEAR</th>\n",
       "      <th>SMTH</th>\n",
       "      <th>NAICS</th>\n",
       "      <th>_EMPLOYMENT_</th>\n",
       "    </tr>\n",
       "  </thead>\n",
       "  <tbody>\n",
       "    <tr>\n",
       "      <th>0</th>\n",
       "      <td>2000</td>\n",
       "      <td>1</td>\n",
       "      <td>Accommodation and food services [72]</td>\n",
       "      <td>148000</td>\n",
       "    </tr>\n",
       "    <tr>\n",
       "      <th>1</th>\n",
       "      <td>2000</td>\n",
       "      <td>1</td>\n",
       "      <td>Administrative and support, waste management a...</td>\n",
       "      <td>59250</td>\n",
       "    </tr>\n",
       "    <tr>\n",
       "      <th>2</th>\n",
       "      <td>2000</td>\n",
       "      <td>1</td>\n",
       "      <td>Agriculture, forestry, fishing and hunting [11]</td>\n",
       "      <td>61750</td>\n",
       "    </tr>\n",
       "    <tr>\n",
       "      <th>3</th>\n",
       "      <td>2000</td>\n",
       "      <td>1</td>\n",
       "      <td>Arts, entertainment and recreation [71]</td>\n",
       "      <td>39500</td>\n",
       "    </tr>\n",
       "    <tr>\n",
       "      <th>4</th>\n",
       "      <td>2000</td>\n",
       "      <td>1</td>\n",
       "      <td>Construction [23]</td>\n",
       "      <td>106250</td>\n",
       "    </tr>\n",
       "  </tbody>\n",
       "</table>\n",
       "</div>"
      ],
      "text/plain": [
       "   SYEAR  SMTH                                              NAICS  \\\n",
       "0   2000     1               Accommodation and food services [72]   \n",
       "1   2000     1  Administrative and support, waste management a...   \n",
       "2   2000     1    Agriculture, forestry, fishing and hunting [11]   \n",
       "3   2000     1            Arts, entertainment and recreation [71]   \n",
       "4   2000     1                                  Construction [23]   \n",
       "\n",
       "   _EMPLOYMENT_  \n",
       "0        148000  \n",
       "1         59250  \n",
       "2         61750  \n",
       "3         39500  \n",
       "4        106250  "
      ]
     },
     "execution_count": 4,
     "metadata": {},
     "output_type": "execute_result"
    }
   ],
   "source": [
    "df_2= pd.concat(map(pd.read_csv, joined_list), ignore_index=True)\n",
    "df_2.shape\n",
    "df_2.head()\n"
   ]
  },
  {
   "cell_type": "code",
   "execution_count": 5,
   "metadata": {},
   "outputs": [
    {
     "data": {
      "text/plain": [
       "array(['Accommodation and food services [72]',\n",
       "       'Administrative and support, waste management and remediation services [56]',\n",
       "       'Agriculture, forestry, fishing and hunting [11]',\n",
       "       'Arts, entertainment and recreation [71]', 'Construction [23]',\n",
       "       'Educational services [61]', 'Finance and insurance [52]',\n",
       "       'Health care and social assistance [62]',\n",
       "       'Information and cultural industries [51]',\n",
       "       'Management of companies and enterprises [55]',\n",
       "       'Manufacturing [31-33]',\n",
       "       'Mining, quarrying, and oil and gas extraction [21]',\n",
       "       'Other services (except public administration)[81]',\n",
       "       'Professional, scientific and technical services [54]',\n",
       "       'Public administration [91]',\n",
       "       'Real estate, rental and leasing [53]', 'Retail trade  [44-45]',\n",
       "       'Transportation and warehousing [48-49]', 'Utilities [22]',\n",
       "       'Wholesale trade  [41]'], dtype=object)"
      ]
     },
     "execution_count": 5,
     "metadata": {},
     "output_type": "execute_result"
    }
   ],
   "source": [
    "df_2.NAICS.unique()"
   ]
  },
  {
   "cell_type": "code",
   "execution_count": 6,
   "metadata": {},
   "outputs": [
    {
     "data": {
      "text/plain": [
       "20"
      ]
     },
     "execution_count": 6,
     "metadata": {},
     "output_type": "execute_result"
    }
   ],
   "source": [
    "len(df_2.NAICS.unique())"
   ]
  },
  {
   "cell_type": "code",
   "execution_count": 7,
   "metadata": {},
   "outputs": [
    {
     "data": {
      "text/plain": [
       "(5472, 4)"
      ]
     },
     "execution_count": 7,
     "metadata": {},
     "output_type": "execute_result"
    }
   ],
   "source": [
    "df_2.shape"
   ]
  },
  {
   "cell_type": "code",
   "execution_count": 8,
   "metadata": {},
   "outputs": [],
   "source": [
    "df2_naic=df_2.groupby('NAICS')['_EMPLOYMENT_'].sum()"
   ]
  },
  {
   "cell_type": "code",
   "execution_count": 9,
   "metadata": {
    "scrolled": true
   },
   "outputs": [
    {
     "data": {
      "text/plain": [
       "NAICS\n",
       "Retail trade  [44-45]                     71565000\n",
       "Health care and social assistance [62]    66872000\n",
       "Manufacturing [31-33]                     49336250\n",
       "Construction [23]                         47616500\n",
       "Accommodation and food services [72]      46411000\n",
       "Name: _EMPLOYMENT_, dtype: int64"
      ]
     },
     "execution_count": 9,
     "metadata": {},
     "output_type": "execute_result"
    }
   ],
   "source": [
    "df2_naic.nlargest(5)"
   ]
  },
  {
   "cell_type": "code",
   "execution_count": 10,
   "metadata": {},
   "outputs": [
    {
     "data": {
      "text/plain": [
       "Text(0,0.5,'Employment')"
      ]
     },
     "execution_count": 10,
     "metadata": {},
     "output_type": "execute_result"
    },
    {
     "data": {
      "image/png": "[encoded data removed]",
      "text/plain": [
       "<Figure size 720x360 with 1 Axes>"
      ]
     },
     "metadata": {},
     "output_type": "display_data"
    }
   ],
   "source": [
    "plt.ylabel(\"Employment\")\n",
    "df2_naic.plot(kind='bar',figsize=(10,5),title='Employee Count at diffrent  2 digit NAICS')\n",
    "plt.ylabel(\"Employment\")"
   ]
  },
  {
   "cell_type": "code",
   "execution_count": 11,
   "metadata": {},
   "outputs": [],
   "source": [
    "df_2_retail=df_2[df_2.NAICS=='Retail trade  [44-45]']"
   ]
  },
  {
   "cell_type": "code",
   "execution_count": 12,
   "metadata": {
    "scrolled": true
   },
   "outputs": [
    {
     "data": {
      "text/plain": [
       "SYEAR\n",
       "1997    2742250\n",
       "1998    2766750\n",
       "1999    2719500\n",
       "2000    2836500\n",
       "2001    2832500\n",
       "2002    2956250\n",
       "2003    2991750\n",
       "2004    2970250\n",
       "2005    3015000\n",
       "2006    3155250\n",
       "2007    3288000\n",
       "2008    3200750\n",
       "2009    3282000\n",
       "2010    3449750\n",
       "2011    3317750\n",
       "2012    3185000\n",
       "2013    3342000\n",
       "2014    3330250\n",
       "2015    3216000\n",
       "2016    3362250\n",
       "2017    3484750\n",
       "2018    3434750\n",
       "2019    2685750\n",
       "Name: _EMPLOYMENT_, dtype: int64"
      ]
     },
     "execution_count": 12,
     "metadata": {},
     "output_type": "execute_result"
    }
   ],
   "source": [
    "df_2_retail.groupby('SYEAR')['_EMPLOYMENT_'].sum()"
   ]
  },
  {
   "cell_type": "code",
   "execution_count": 13,
   "metadata": {
    "scrolled": true
   },
   "outputs": [
    {
     "data": {
      "text/plain": [
       "Text(0,0.5,'numbe of employees')"
      ]
     },
     "execution_count": 13,
     "metadata": {},
     "output_type": "execute_result"
    },
    {
     "data": {
      "image/png": "[encoded data removed]",
      "text/plain": [
       "<Figure size 504x432 with 1 Axes>"
      ]
     },
     "metadata": {},
     "output_type": "display_data"
    }
   ],
   "source": [
    "df_2_retail.groupby('SYEAR')['_EMPLOYMENT_'].sum().plot(kind='line',figsize=(7,6))\n",
    "plt.xlabel('year')\n",
    "plt.ylabel('numbe of employees')"
   ]
  },
  {
   "cell_type": "code",
   "execution_count": 14,
   "metadata": {},
   "outputs": [
    {
     "data": {
      "text/html": [
       "<div>\n",
       "<style scoped>\n",
       "    .dataframe tbody tr th:only-of-type {\n",
       "        vertical-align: middle;\n",
       "    }\n",
       "\n",
       "    .dataframe tbody tr th {\n",
       "        vertical-align: top;\n",
       "    }\n",
       "\n",
       "    .dataframe thead th {\n",
       "        text-align: right;\n",
       "    }\n",
       "</style>\n",
       "<table border=\"1\" class=\"dataframe\">\n",
       "  <thead>\n",
       "    <tr style=\"text-align: right;\">\n",
       "      <th></th>\n",
       "      <th>SYEAR</th>\n",
       "      <th>SMTH</th>\n",
       "      <th>NAICS</th>\n",
       "      <th>_EMPLOYMENT_</th>\n",
       "    </tr>\n",
       "  </thead>\n",
       "  <tbody>\n",
       "    <tr>\n",
       "      <th>4539</th>\n",
       "      <td>2019</td>\n",
       "      <td>1</td>\n",
       "      <td>Retail trade  [44-45]</td>\n",
       "      <td>286000</td>\n",
       "    </tr>\n",
       "    <tr>\n",
       "      <th>4558</th>\n",
       "      <td>2019</td>\n",
       "      <td>2</td>\n",
       "      <td>Retail trade  [44-45]</td>\n",
       "      <td>288500</td>\n",
       "    </tr>\n",
       "    <tr>\n",
       "      <th>4577</th>\n",
       "      <td>2019</td>\n",
       "      <td>3</td>\n",
       "      <td>Retail trade  [44-45]</td>\n",
       "      <td>288750</td>\n",
       "    </tr>\n",
       "    <tr>\n",
       "      <th>4596</th>\n",
       "      <td>2019</td>\n",
       "      <td>4</td>\n",
       "      <td>Retail trade  [44-45]</td>\n",
       "      <td>289000</td>\n",
       "    </tr>\n",
       "    <tr>\n",
       "      <th>4615</th>\n",
       "      <td>2019</td>\n",
       "      <td>5</td>\n",
       "      <td>Retail trade  [44-45]</td>\n",
       "      <td>302250</td>\n",
       "    </tr>\n",
       "    <tr>\n",
       "      <th>4634</th>\n",
       "      <td>2019</td>\n",
       "      <td>6</td>\n",
       "      <td>Retail trade  [44-45]</td>\n",
       "      <td>309500</td>\n",
       "    </tr>\n",
       "    <tr>\n",
       "      <th>4653</th>\n",
       "      <td>2019</td>\n",
       "      <td>7</td>\n",
       "      <td>Retail trade  [44-45]</td>\n",
       "      <td>303250</td>\n",
       "    </tr>\n",
       "    <tr>\n",
       "      <th>4672</th>\n",
       "      <td>2019</td>\n",
       "      <td>8</td>\n",
       "      <td>Retail trade  [44-45]</td>\n",
       "      <td>310000</td>\n",
       "    </tr>\n",
       "    <tr>\n",
       "      <th>4691</th>\n",
       "      <td>2019</td>\n",
       "      <td>9</td>\n",
       "      <td>Retail trade  [44-45]</td>\n",
       "      <td>308500</td>\n",
       "    </tr>\n",
       "    <tr>\n",
       "      <th>4710</th>\n",
       "      <td>2019</td>\n",
       "      <td>10</td>\n",
       "      <td>Retail trade  [44-45]</td>\n",
       "      <td>0</td>\n",
       "    </tr>\n",
       "    <tr>\n",
       "      <th>4729</th>\n",
       "      <td>2019</td>\n",
       "      <td>11</td>\n",
       "      <td>Retail trade  [44-45]</td>\n",
       "      <td>0</td>\n",
       "    </tr>\n",
       "    <tr>\n",
       "      <th>4748</th>\n",
       "      <td>2019</td>\n",
       "      <td>12</td>\n",
       "      <td>Retail trade  [44-45]</td>\n",
       "      <td>0</td>\n",
       "    </tr>\n",
       "  </tbody>\n",
       "</table>\n",
       "</div>"
      ],
      "text/plain": [
       "      SYEAR  SMTH                  NAICS  _EMPLOYMENT_\n",
       "4539   2019     1  Retail trade  [44-45]        286000\n",
       "4558   2019     2  Retail trade  [44-45]        288500\n",
       "4577   2019     3  Retail trade  [44-45]        288750\n",
       "4596   2019     4  Retail trade  [44-45]        289000\n",
       "4615   2019     5  Retail trade  [44-45]        302250\n",
       "4634   2019     6  Retail trade  [44-45]        309500\n",
       "4653   2019     7  Retail trade  [44-45]        303250\n",
       "4672   2019     8  Retail trade  [44-45]        310000\n",
       "4691   2019     9  Retail trade  [44-45]        308500\n",
       "4710   2019    10  Retail trade  [44-45]             0\n",
       "4729   2019    11  Retail trade  [44-45]             0\n",
       "4748   2019    12  Retail trade  [44-45]             0"
      ]
     },
     "execution_count": 14,
     "metadata": {},
     "output_type": "execute_result"
    }
   ],
   "source": [
    "df_2_retail[df_2_retail.SYEAR==2019]"
   ]
  },
  {
   "cell_type": "code",
   "execution_count": 15,
   "metadata": {},
   "outputs": [
    {
     "data": {
      "text/html": [
       "<div>\n",
       "<style scoped>\n",
       "    .dataframe tbody tr th:only-of-type {\n",
       "        vertical-align: middle;\n",
       "    }\n",
       "\n",
       "    .dataframe tbody tr th {\n",
       "        vertical-align: top;\n",
       "    }\n",
       "\n",
       "    .dataframe thead th {\n",
       "        text-align: right;\n",
       "    }\n",
       "</style>\n",
       "<table border=\"1\" class=\"dataframe\">\n",
       "  <thead>\n",
       "    <tr style=\"text-align: right;\">\n",
       "      <th></th>\n",
       "      <th>SYEAR</th>\n",
       "      <th>SMTH</th>\n",
       "      <th>NAICS</th>\n",
       "      <th>_EMPLOYMENT_</th>\n",
       "    </tr>\n",
       "  </thead>\n",
       "  <tbody>\n",
       "    <tr>\n",
       "      <th>4531</th>\n",
       "      <td>2019</td>\n",
       "      <td>1</td>\n",
       "      <td>Health care and social assistance [62]</td>\n",
       "      <td>312000</td>\n",
       "    </tr>\n",
       "    <tr>\n",
       "      <th>4550</th>\n",
       "      <td>2019</td>\n",
       "      <td>2</td>\n",
       "      <td>Health care and social assistance [62]</td>\n",
       "      <td>317500</td>\n",
       "    </tr>\n",
       "    <tr>\n",
       "      <th>4569</th>\n",
       "      <td>2019</td>\n",
       "      <td>3</td>\n",
       "      <td>Health care and social assistance [62]</td>\n",
       "      <td>312000</td>\n",
       "    </tr>\n",
       "    <tr>\n",
       "      <th>4588</th>\n",
       "      <td>2019</td>\n",
       "      <td>4</td>\n",
       "      <td>Health care and social assistance [62]</td>\n",
       "      <td>309250</td>\n",
       "    </tr>\n",
       "    <tr>\n",
       "      <th>4607</th>\n",
       "      <td>2019</td>\n",
       "      <td>5</td>\n",
       "      <td>Health care and social assistance [62]</td>\n",
       "      <td>310500</td>\n",
       "    </tr>\n",
       "    <tr>\n",
       "      <th>4626</th>\n",
       "      <td>2019</td>\n",
       "      <td>6</td>\n",
       "      <td>Health care and social assistance [62]</td>\n",
       "      <td>319000</td>\n",
       "    </tr>\n",
       "    <tr>\n",
       "      <th>4645</th>\n",
       "      <td>2019</td>\n",
       "      <td>7</td>\n",
       "      <td>Health care and social assistance [62]</td>\n",
       "      <td>319500</td>\n",
       "    </tr>\n",
       "    <tr>\n",
       "      <th>4664</th>\n",
       "      <td>2019</td>\n",
       "      <td>8</td>\n",
       "      <td>Health care and social assistance [62]</td>\n",
       "      <td>309500</td>\n",
       "    </tr>\n",
       "    <tr>\n",
       "      <th>4683</th>\n",
       "      <td>2019</td>\n",
       "      <td>9</td>\n",
       "      <td>Health care and social assistance [62]</td>\n",
       "      <td>311250</td>\n",
       "    </tr>\n",
       "    <tr>\n",
       "      <th>4702</th>\n",
       "      <td>2019</td>\n",
       "      <td>10</td>\n",
       "      <td>Health care and social assistance [62]</td>\n",
       "      <td>0</td>\n",
       "    </tr>\n",
       "    <tr>\n",
       "      <th>4721</th>\n",
       "      <td>2019</td>\n",
       "      <td>11</td>\n",
       "      <td>Health care and social assistance [62]</td>\n",
       "      <td>0</td>\n",
       "    </tr>\n",
       "    <tr>\n",
       "      <th>4740</th>\n",
       "      <td>2019</td>\n",
       "      <td>12</td>\n",
       "      <td>Health care and social assistance [62]</td>\n",
       "      <td>0</td>\n",
       "    </tr>\n",
       "  </tbody>\n",
       "</table>\n",
       "</div>"
      ],
      "text/plain": [
       "      SYEAR  SMTH                                   NAICS  _EMPLOYMENT_\n",
       "4531   2019     1  Health care and social assistance [62]        312000\n",
       "4550   2019     2  Health care and social assistance [62]        317500\n",
       "4569   2019     3  Health care and social assistance [62]        312000\n",
       "4588   2019     4  Health care and social assistance [62]        309250\n",
       "4607   2019     5  Health care and social assistance [62]        310500\n",
       "4626   2019     6  Health care and social assistance [62]        319000\n",
       "4645   2019     7  Health care and social assistance [62]        319500\n",
       "4664   2019     8  Health care and social assistance [62]        309500\n",
       "4683   2019     9  Health care and social assistance [62]        311250\n",
       "4702   2019    10  Health care and social assistance [62]             0\n",
       "4721   2019    11  Health care and social assistance [62]             0\n",
       "4740   2019    12  Health care and social assistance [62]             0"
      ]
     },
     "execution_count": 15,
     "metadata": {},
     "output_type": "execute_result"
    }
   ],
   "source": [
    "df_2_health_care=df_2[df_2.NAICS=='Health care and social assistance [62]']\n",
    "df_2_health_care[df_2_health_care.SYEAR==2019]"
   ]
  },
  {
   "cell_type": "code",
   "execution_count": 16,
   "metadata": {},
   "outputs": [
    {
     "data": {
      "text/html": [
       "<div>\n",
       "<style scoped>\n",
       "    .dataframe tbody tr th:only-of-type {\n",
       "        vertical-align: middle;\n",
       "    }\n",
       "\n",
       "    .dataframe tbody tr th {\n",
       "        vertical-align: top;\n",
       "    }\n",
       "\n",
       "    .dataframe thead th {\n",
       "        text-align: right;\n",
       "    }\n",
       "</style>\n",
       "<table border=\"1\" class=\"dataframe\">\n",
       "  <thead>\n",
       "    <tr style=\"text-align: right;\">\n",
       "      <th></th>\n",
       "      <th>SYEAR</th>\n",
       "      <th>SMTH</th>\n",
       "      <th>NAICS</th>\n",
       "      <th>_EMPLOYMENT_</th>\n",
       "    </tr>\n",
       "  </thead>\n",
       "  <tbody>\n",
       "    <tr>\n",
       "      <th>4695</th>\n",
       "      <td>2019</td>\n",
       "      <td>10</td>\n",
       "      <td>Accommodation and food services [72]</td>\n",
       "      <td>0</td>\n",
       "    </tr>\n",
       "    <tr>\n",
       "      <th>4696</th>\n",
       "      <td>2019</td>\n",
       "      <td>10</td>\n",
       "      <td>Administrative and support, waste management a...</td>\n",
       "      <td>0</td>\n",
       "    </tr>\n",
       "    <tr>\n",
       "      <th>4697</th>\n",
       "      <td>2019</td>\n",
       "      <td>10</td>\n",
       "      <td>Agriculture, forestry, fishing and hunting [11]</td>\n",
       "      <td>0</td>\n",
       "    </tr>\n",
       "    <tr>\n",
       "      <th>4698</th>\n",
       "      <td>2019</td>\n",
       "      <td>10</td>\n",
       "      <td>Arts, entertainment and recreation [71]</td>\n",
       "      <td>0</td>\n",
       "    </tr>\n",
       "    <tr>\n",
       "      <th>4699</th>\n",
       "      <td>2019</td>\n",
       "      <td>10</td>\n",
       "      <td>Construction [23]</td>\n",
       "      <td>0</td>\n",
       "    </tr>\n",
       "  </tbody>\n",
       "</table>\n",
       "</div>"
      ],
      "text/plain": [
       "      SYEAR  SMTH                                              NAICS  \\\n",
       "4695   2019    10               Accommodation and food services [72]   \n",
       "4696   2019    10  Administrative and support, waste management a...   \n",
       "4697   2019    10    Agriculture, forestry, fishing and hunting [11]   \n",
       "4698   2019    10            Arts, entertainment and recreation [71]   \n",
       "4699   2019    10                                  Construction [23]   \n",
       "\n",
       "      _EMPLOYMENT_  \n",
       "4695             0  \n",
       "4696             0  \n",
       "4697             0  \n",
       "4698             0  \n",
       "4699             0  "
      ]
     },
     "execution_count": 16,
     "metadata": {},
     "output_type": "execute_result"
    }
   ],
   "source": [
    "df_2[(df_2.SYEAR==2019) & (df_2.SMTH>9)].head()"
   ]
  },
  {
   "cell_type": "code",
   "execution_count": 17,
   "metadata": {},
   "outputs": [
    {
     "data": {
      "text/plain": [
       "0"
      ]
     },
     "execution_count": 17,
     "metadata": {},
     "output_type": "execute_result"
    }
   ],
   "source": [
    "df_2[(df_2.SYEAR==2019) & (df_2.SMTH>9)]._EMPLOYMENT_.sum()"
   ]
  },
  {
   "cell_type": "code",
   "execution_count": 18,
   "metadata": {},
   "outputs": [],
   "source": [
    "df_2_construction=df_2[df_2.NAICS=='Construction [23]']"
   ]
  },
  {
   "cell_type": "code",
   "execution_count": 19,
   "metadata": {},
   "outputs": [
    {
     "data": {
      "text/plain": [
       "Text(0,0.5,'numbe of employees')"
      ]
     },
     "execution_count": 19,
     "metadata": {},
     "output_type": "execute_result"
    },
    {
     "data": {
      "image/png": "[encoded data removed]",
      "text/plain": [
       "<Figure size 504x504 with 1 Axes>"
      ]
     },
     "metadata": {},
     "output_type": "display_data"
    }
   ],
   "source": [
    "df_2_construction.groupby('SYEAR')['_EMPLOYMENT_'].sum().plot(kind='line',figsize=(7,7))\n",
    "plt.xlabel('year')\n",
    "plt.ylabel('numbe of employees')\n"
   ]
  },
  {
   "cell_type": "code",
   "execution_count": 20,
   "metadata": {},
   "outputs": [
    {
     "data": {
      "image/png": "[encoded data removed]",
      "text/plain": [
       "<Figure size 1080x504 with 1 Axes>"
      ]
     },
     "metadata": {},
     "output_type": "display_data"
    }
   ],
   "source": [
    "df_2_nonconstruction=df_2[df_2.NAICS!='Construction [23]']\n",
    "c=df_2_construction.groupby('SYEAR')['_EMPLOYMENT_'].sum()\n",
    "d=df_2_nonconstruction.groupby('SYEAR')['_EMPLOYMENT_'].sum()\n",
    "\n",
    "df = pd.DataFrame({\"Construction\":c,\"Others\":d})\n",
    "ax = df.plot.bar(color=[\"SkyBlue\",\"IndianRed\"],  title=\"Construction Vs Other Sectors Employee Count Year graph\",figsize=(15,7),width=0.8,stacked=True)\n",
    "ax.set_xlabel(\"Year\")\n",
    "ax.set_ylabel(\"Employee\")\n",
    "\n",
    "plt.show()"
   ]
  },
  {
   "cell_type": "code",
   "execution_count": 21,
   "metadata": {},
   "outputs": [
    {
     "data": {
      "text/plain": [
       "8.784898531299422"
      ]
     },
     "execution_count": 21,
     "metadata": {},
     "output_type": "execute_result"
    }
   ],
   "source": [
    "c.mean()/d.mean()*100"
   ]
  },
  {
   "cell_type": "code",
   "execution_count": 22,
   "metadata": {},
   "outputs": [
    {
     "data": {
      "text/plain": [
       "Text(0,0.5,'No of employees')"
      ]
     },
     "execution_count": 22,
     "metadata": {},
     "output_type": "execute_result"
    },
    {
     "data": {
      "image/png": "[encoded data removed]",
      "text/plain": [
       "<Figure size 576x432 with 1 Axes>"
      ]
     },
     "metadata": {},
     "output_type": "display_data"
    }
   ],
   "source": [
    "df2_smth=df_2.groupby('SMTH')['_EMPLOYMENT_'].sum()\n",
    "df2_smth.plot(kind='bar',figsize=(8,6))\n",
    "plt.xlabel('Month')\n",
    "plt.ylabel('No of employees')"
   ]
  },
  {
   "cell_type": "code",
   "execution_count": 23,
   "metadata": {},
   "outputs": [
    {
     "data": {
      "text/plain": [
       "Text(0,0.5,'No of employees')"
      ]
     },
     "execution_count": 23,
     "metadata": {},
     "output_type": "execute_result"
    },
    {
     "data": {
      "image/png": "[encoded data removed]",
      "text/plain": [
       "<Figure size 720x432 with 1 Axes>"
      ]
     },
     "metadata": {},
     "output_type": "display_data"
    }
   ],
   "source": [
    "df2_year=df_2.groupby('SYEAR')['_EMPLOYMENT_'].sum()\n",
    "df2_year.plot(kind='bar',figsize=(10,6))\n",
    "plt.xlabel('Year')\n",
    "plt.ylabel('No of employees')"
   ]
  },
  {
   "cell_type": "code",
   "execution_count": 24,
   "metadata": {},
   "outputs": [
    {
     "data": {
      "text/html": [
       "<div>\n",
       "<style scoped>\n",
       "    .dataframe tbody tr th:only-of-type {\n",
       "        vertical-align: middle;\n",
       "    }\n",
       "\n",
       "    .dataframe tbody tr th {\n",
       "        vertical-align: top;\n",
       "    }\n",
       "\n",
       "    .dataframe thead th {\n",
       "        text-align: right;\n",
       "    }\n",
       "</style>\n",
       "<table border=\"1\" class=\"dataframe\">\n",
       "  <thead>\n",
       "    <tr style=\"text-align: right;\">\n",
       "      <th></th>\n",
       "      <th>SYEAR</th>\n",
       "      <th>SMTH</th>\n",
       "      <th>NAICS</th>\n",
       "      <th>_EMPLOYMENT_</th>\n",
       "    </tr>\n",
       "  </thead>\n",
       "  <tbody>\n",
       "    <tr>\n",
       "      <th>4695</th>\n",
       "      <td>2019</td>\n",
       "      <td>10</td>\n",
       "      <td>Accommodation and food services [72]</td>\n",
       "      <td>0</td>\n",
       "    </tr>\n",
       "    <tr>\n",
       "      <th>4696</th>\n",
       "      <td>2019</td>\n",
       "      <td>10</td>\n",
       "      <td>Administrative and support, waste management a...</td>\n",
       "      <td>0</td>\n",
       "    </tr>\n",
       "    <tr>\n",
       "      <th>4697</th>\n",
       "      <td>2019</td>\n",
       "      <td>10</td>\n",
       "      <td>Agriculture, forestry, fishing and hunting [11]</td>\n",
       "      <td>0</td>\n",
       "    </tr>\n",
       "    <tr>\n",
       "      <th>4698</th>\n",
       "      <td>2019</td>\n",
       "      <td>10</td>\n",
       "      <td>Arts, entertainment and recreation [71]</td>\n",
       "      <td>0</td>\n",
       "    </tr>\n",
       "    <tr>\n",
       "      <th>4699</th>\n",
       "      <td>2019</td>\n",
       "      <td>10</td>\n",
       "      <td>Construction [23]</td>\n",
       "      <td>0</td>\n",
       "    </tr>\n",
       "  </tbody>\n",
       "</table>\n",
       "</div>"
      ],
      "text/plain": [
       "      SYEAR  SMTH                                              NAICS  \\\n",
       "4695   2019    10               Accommodation and food services [72]   \n",
       "4696   2019    10  Administrative and support, waste management a...   \n",
       "4697   2019    10    Agriculture, forestry, fishing and hunting [11]   \n",
       "4698   2019    10            Arts, entertainment and recreation [71]   \n",
       "4699   2019    10                                  Construction [23]   \n",
       "\n",
       "      _EMPLOYMENT_  \n",
       "4695             0  \n",
       "4696             0  \n",
       "4697             0  \n",
       "4698             0  \n",
       "4699             0  "
      ]
     },
     "execution_count": 24,
     "metadata": {},
     "output_type": "execute_result"
    }
   ],
   "source": [
    "df_2[(df_2.SYEAR==2019) & (df_2.SMTH>9)].head()"
   ]
  },
  {
   "cell_type": "code",
   "execution_count": 25,
   "metadata": {},
   "outputs": [
    {
     "data": {
      "text/plain": [
       "0"
      ]
     },
     "execution_count": 25,
     "metadata": {},
     "output_type": "execute_result"
    }
   ],
   "source": [
    "df_2[(df_2.SYEAR==2019) & (df_2.SMTH>9)]._EMPLOYMENT_.sum()"
   ]
  },
  {
   "cell_type": "markdown",
   "metadata": {},
   "source": [
    "## 3 digit NAICS explaratory data analysis"
   ]
  },
  {
   "cell_type": "code",
   "execution_count": 26,
   "metadata": {},
   "outputs": [
    {
     "data": {
      "text/html": [
       "<div>\n",
       "<style scoped>\n",
       "    .dataframe tbody tr th:only-of-type {\n",
       "        vertical-align: middle;\n",
       "    }\n",
       "\n",
       "    .dataframe tbody tr th {\n",
       "        vertical-align: top;\n",
       "    }\n",
       "\n",
       "    .dataframe thead th {\n",
       "        text-align: right;\n",
       "    }\n",
       "</style>\n",
       "<table border=\"1\" class=\"dataframe\">\n",
       "  <thead>\n",
       "    <tr style=\"text-align: right;\">\n",
       "      <th></th>\n",
       "      <th>SYEAR</th>\n",
       "      <th>SMTH</th>\n",
       "      <th>NAICS</th>\n",
       "      <th>_EMPLOYMENT_</th>\n",
       "    </tr>\n",
       "  </thead>\n",
       "  <tbody>\n",
       "    <tr>\n",
       "      <th>0</th>\n",
       "      <td>2000</td>\n",
       "      <td>1</td>\n",
       "      <td>Aboriginal public administration[914]</td>\n",
       "      <td>500</td>\n",
       "    </tr>\n",
       "    <tr>\n",
       "      <th>1</th>\n",
       "      <td>2000</td>\n",
       "      <td>1</td>\n",
       "      <td>Accommodation services[721]</td>\n",
       "      <td>33750</td>\n",
       "    </tr>\n",
       "    <tr>\n",
       "      <th>2</th>\n",
       "      <td>2000</td>\n",
       "      <td>1</td>\n",
       "      <td>Administrative and support services[561]</td>\n",
       "      <td>55250</td>\n",
       "    </tr>\n",
       "    <tr>\n",
       "      <th>3</th>\n",
       "      <td>2000</td>\n",
       "      <td>1</td>\n",
       "      <td>Air transportation[481]</td>\n",
       "      <td>17500</td>\n",
       "    </tr>\n",
       "    <tr>\n",
       "      <th>4</th>\n",
       "      <td>2000</td>\n",
       "      <td>1</td>\n",
       "      <td>Ambulatory health care services[621]</td>\n",
       "      <td>53000</td>\n",
       "    </tr>\n",
       "  </tbody>\n",
       "</table>\n",
       "</div>"
      ],
      "text/plain": [
       "   SYEAR  SMTH                                     NAICS  _EMPLOYMENT_\n",
       "0   2000     1     Aboriginal public administration[914]           500\n",
       "1   2000     1               Accommodation services[721]         33750\n",
       "2   2000     1  Administrative and support services[561]         55250\n",
       "3   2000     1                   Air transportation[481]         17500\n",
       "4   2000     1      Ambulatory health care services[621]         53000"
      ]
     },
     "execution_count": 26,
     "metadata": {},
     "output_type": "execute_result"
    }
   ],
   "source": [
    "joined_list=[]\n",
    "joined_files = os.path.join(m, \"*3NAICS*.csv\")\n",
    "joined_list = glob.glob(joined_files)\n",
    "df_3= pd.concat(map(pd.read_csv, joined_list), ignore_index=True)\n",
    "df_3.head()"
   ]
  },
  {
   "cell_type": "code",
   "execution_count": 27,
   "metadata": {},
   "outputs": [
    {
     "data": {
      "text/plain": [
       "array(['Aboriginal public administration[914]',\n",
       "       'Accommodation services[721]',\n",
       "       'Administrative and support services[561]',\n",
       "       'Air transportation[481]', 'Ambulatory health care services[621]',\n",
       "       'Amusement, gambling and recreation industries[713]',\n",
       "       'Animal production and aquaculture[112]',\n",
       "       'Beverage and tobacco product manufacturing[312]',\n",
       "       'Broadcasting (except Internet)[515]',\n",
       "       'Building material and garden equipment and supplies dealers[444]',\n",
       "       'Building material and supplies merchant wholesalers[416]',\n",
       "       'Business-to-business electronic markets, and agents and brokers[419]',\n",
       "       'Chemical manufacturing[325]',\n",
       "       'Clothing and clothing accessories stores[448]',\n",
       "       'Clothing manufacturing[315]',\n",
       "       'Computer and electronic product manufacturing[334]',\n",
       "       'Construction of buildings[236]', 'Couriers and messengers[492]',\n",
       "       'Credit intermediation and related activities[522]',\n",
       "       'Crop production[111]',\n",
       "       'Data processing, hosting, and related services[518]',\n",
       "       'Educational services[611]',\n",
       "       'Electrical equipment, appliance and component manufacturing[335]',\n",
       "       'Electronics and appliance stores[443]',\n",
       "       'Fabricated metal product manufacturing[332]',\n",
       "       'Farm product merchant wholesalers[411]',\n",
       "       'Federal government public administration[911]',\n",
       "       'Fishing, hunting and trapping[114]',\n",
       "       'Food and beverage stores[445]', 'Food manufacturing[311]',\n",
       "       'Food services and drinking places[722]',\n",
       "       'Food, beverage and tobacco merchant wholesalers[413]',\n",
       "       'Forestry and logging[113]',\n",
       "       'Funds and other financial vehicles[526]',\n",
       "       'Furniture and home furnishings stores[442]',\n",
       "       'Furniture and related product manufacturing[337]',\n",
       "       'Gasoline stations[447]', 'General merchandise stores[452]',\n",
       "       'Health and personal care stores[446]',\n",
       "       'Heavy and civil engineering construction[237]',\n",
       "       'Heritage institutions[712]', 'Hospitals[622]',\n",
       "       'Insurance carriers and related activities[524]',\n",
       "       'International and other extra-territorial public administration[919]',\n",
       "       'Leather and allied product manufacturing[316]',\n",
       "       'Lessors of non-financial intangible assets (except copyrighted works)[533]',\n",
       "       'Local, municipal and regional public administration[913]',\n",
       "       'Machinery manufacturing[333]',\n",
       "       'Machinery, equipment and supplies merchant wholesalers[417]',\n",
       "       'Management of companies and enterprises[551]',\n",
       "       'Mining and quarrying (except oil and gas)[212]',\n",
       "       'Miscellaneous manufacturing[339]',\n",
       "       'Miscellaneous merchant wholesalers[418]',\n",
       "       'Miscellaneous store retailers[453]',\n",
       "       'Motion picture and sound recording industries[512]',\n",
       "       'Motor vehicle and motor vehicle parts and accessories merchant wholesalers[415]',\n",
       "       'Motor vehicle and parts dealers[441]',\n",
       "       'Non-metallic mineral product manufacturing[327]',\n",
       "       'Non-store retailers[454]',\n",
       "       'Nursing and residential care facilities[623]',\n",
       "       'Oil and gas extraction[211]', 'Other',\n",
       "       'Other information services[519]', 'Paper manufacturing[322]',\n",
       "       'Performing arts, spectator sports and related industries[711]',\n",
       "       'Personal and household goods merchant wholesalers[414]',\n",
       "       'Personal and laundry services[812]',\n",
       "       'Petroleum and coal product manufacturing[324]',\n",
       "       'Petroleum and petroleum products merchant wholesalers[412]',\n",
       "       'Pipeline transportation[486]',\n",
       "       'Plastics and rubber products manufacturing[326]',\n",
       "       'Postal service[491]', 'Primary metal manufacturing[331]',\n",
       "       'Printing and related support activities[323]',\n",
       "       'Private households[814]',\n",
       "       'Professional, scientific and technical services[541]',\n",
       "       'Provincial and territorial public administration[912]',\n",
       "       'Publishing industries[511]', 'Rail transportation[482]',\n",
       "       'Real estate[531]',\n",
       "       'Religious, grant-making, civic, and professional and similar organizations[813]',\n",
       "       'Rental and leasing services[532]', 'Repair and maintenance[811]',\n",
       "       'Scenic and sightseeing transportation[487]',\n",
       "       'Securities, commodity contracts, and other financial investment and related acti',\n",
       "       'Social assistance[624]', 'Specialty trade contractors[238]',\n",
       "       'Sporting goods, hobby, book and music stores[451]',\n",
       "       'Support activities for agriculture and forestry[115]',\n",
       "       'Support activities for mining, and oil and gas extraction[213]',\n",
       "       'Support activities for transportation[488]',\n",
       "       'Telecommunications[517]', 'Textile mills[313]',\n",
       "       'Textile product mills[314]',\n",
       "       'Transit and ground passenger transportation[485]',\n",
       "       'Transportation equipment manufacturing[336]',\n",
       "       'Truck transportation[484]', 'Utilities[221]',\n",
       "       'Warehousing and storage[493]',\n",
       "       'Waste management and remediation services[562]',\n",
       "       'Water transportation[483]', 'Wood product manufacturing[321]',\n",
       "       'Monetary authorities - central bank[521]'], dtype=object)"
      ]
     },
     "execution_count": 27,
     "metadata": {},
     "output_type": "execute_result"
    }
   ],
   "source": [
    "df_3.NAICS.unique()"
   ]
  },
  {
   "cell_type": "code",
   "execution_count": 28,
   "metadata": {},
   "outputs": [
    {
     "data": {
      "text/plain": [
       "103"
      ]
     },
     "execution_count": 28,
     "metadata": {},
     "output_type": "execute_result"
    }
   ],
   "source": [
    "len(df_3.NAICS.unique())"
   ]
  },
  {
   "cell_type": "code",
   "execution_count": 29,
   "metadata": {},
   "outputs": [
    {
     "data": {
      "text/plain": [
       "NAICS\n",
       "Professional, scientific and technical services[541]    44404750\n",
       "Educational services[611]                               40707750\n",
       "Food services and drinking places[722]                  36429500\n",
       "Specialty trade contractors[238]                        28761250\n",
       "Hospitals[622]                                          23478750\n",
       "Administrative and support services[561]                22647000\n",
       "Food and beverage stores[445]                           18740000\n",
       "Ambulatory health care services[621]                    18106500\n",
       "Social assistance[624]                                  14841500\n",
       "Construction of buildings[236]                          13591750\n",
       "Credit intermediation and related activities[522]       11625500\n",
       "Wood product manufacturing[321]                         10647500\n",
       "Real estate[531]                                        10512500\n",
       "Nursing and residential care facilities[623]            10444250\n",
       "Accommodation services[721]                              9981750\n",
       "Name: _EMPLOYMENT_, dtype: int64"
      ]
     },
     "execution_count": 29,
     "metadata": {},
     "output_type": "execute_result"
    }
   ],
   "source": [
    "df3_naic=df_3.groupby('NAICS')['_EMPLOYMENT_'].sum().nlargest(15)\n",
    "df3_naic"
   ]
  },
  {
   "cell_type": "code",
   "execution_count": 30,
   "metadata": {},
   "outputs": [
    {
     "data": {
      "text/plain": [
       "Text(0,0.5,'Employment')"
      ]
     },
     "execution_count": 30,
     "metadata": {},
     "output_type": "execute_result"
    },
    {
     "data": {
      "image/png": "[encoded data removed]",
      "text/plain": [
       "<Figure size 720x432 with 1 Axes>"
      ]
     },
     "metadata": {},
     "output_type": "display_data"
    }
   ],
   "source": [
    "df3_naic.plot(kind='bar',figsize=(10,6),title='Employee Count at diffrent 3 digit NAICS')\n",
    "plt.ylabel(\"Employment\")"
   ]
  },
  {
   "cell_type": "code",
   "execution_count": 31,
   "metadata": {},
   "outputs": [
    {
     "data": {
      "text/plain": [
       "SYEAR\n",
       "1997    1358500\n",
       "1998    1485250\n",
       "1999    1643250\n",
       "2000    1635750\n",
       "2001    1670750\n",
       "2002    1608000\n",
       "2003    1631750\n",
       "2004    1717750\n",
       "2005    1909500\n",
       "2006    1968500\n",
       "2007    1969500\n",
       "2008    1986500\n",
       "2009    1917250\n",
       "2010    1957250\n",
       "2011    2089750\n",
       "2012    2042250\n",
       "2013    2139500\n",
       "2014    2188000\n",
       "2015    2257750\n",
       "2016    2345250\n",
       "2017    2366500\n",
       "2018    2502500\n",
       "2019    2013750\n",
       "Name: _EMPLOYMENT_, dtype: int64"
      ]
     },
     "execution_count": 31,
     "metadata": {},
     "output_type": "execute_result"
    }
   ],
   "source": [
    "df_3_top_naic=df_3[df_3.NAICS=='Professional, scientific and technical services[541]']\n",
    "df_3_top_naic.groupby('SYEAR')['_EMPLOYMENT_'].sum()\n"
   ]
  },
  {
   "cell_type": "code",
   "execution_count": 32,
   "metadata": {},
   "outputs": [
    {
     "data": {
      "text/plain": [
       "Text(0,0.5,'numbe of employees')"
      ]
     },
     "execution_count": 32,
     "metadata": {},
     "output_type": "execute_result"
    },
    {
     "data": {
      "image/png": "[encoded data removed]",
      "text/plain": [
       "<Figure size 504x504 with 1 Axes>"
      ]
     },
     "metadata": {},
     "output_type": "display_data"
    }
   ],
   "source": [
    "df_3_top_naic.groupby('SYEAR')['_EMPLOYMENT_'].sum().plot(kind='line',figsize=(7,7))\n",
    "plt.xlabel('year')\n",
    "plt.ylabel('numbe of employees')"
   ]
  },
  {
   "cell_type": "code",
   "execution_count": 33,
   "metadata": {},
   "outputs": [
    {
     "data": {
      "text/html": [
       "<div>\n",
       "<style scoped>\n",
       "    .dataframe tbody tr th:only-of-type {\n",
       "        vertical-align: middle;\n",
       "    }\n",
       "\n",
       "    .dataframe tbody tr th {\n",
       "        vertical-align: top;\n",
       "    }\n",
       "\n",
       "    .dataframe thead th {\n",
       "        text-align: right;\n",
       "    }\n",
       "</style>\n",
       "<table border=\"1\" class=\"dataframe\">\n",
       "  <thead>\n",
       "    <tr style=\"text-align: right;\">\n",
       "      <th></th>\n",
       "      <th>SYEAR</th>\n",
       "      <th>SMTH</th>\n",
       "      <th>NAICS</th>\n",
       "      <th>_EMPLOYMENT_</th>\n",
       "    </tr>\n",
       "  </thead>\n",
       "  <tbody>\n",
       "    <tr>\n",
       "      <th>23294</th>\n",
       "      <td>2019</td>\n",
       "      <td>1</td>\n",
       "      <td>Professional, scientific and technical service...</td>\n",
       "      <td>220750</td>\n",
       "    </tr>\n",
       "    <tr>\n",
       "      <th>23395</th>\n",
       "      <td>2019</td>\n",
       "      <td>2</td>\n",
       "      <td>Professional, scientific and technical service...</td>\n",
       "      <td>217750</td>\n",
       "    </tr>\n",
       "    <tr>\n",
       "      <th>23496</th>\n",
       "      <td>2019</td>\n",
       "      <td>3</td>\n",
       "      <td>Professional, scientific and technical service...</td>\n",
       "      <td>225750</td>\n",
       "    </tr>\n",
       "    <tr>\n",
       "      <th>23597</th>\n",
       "      <td>2019</td>\n",
       "      <td>4</td>\n",
       "      <td>Professional, scientific and technical service...</td>\n",
       "      <td>222750</td>\n",
       "    </tr>\n",
       "    <tr>\n",
       "      <th>23698</th>\n",
       "      <td>2019</td>\n",
       "      <td>5</td>\n",
       "      <td>Professional, scientific and technical service...</td>\n",
       "      <td>219500</td>\n",
       "    </tr>\n",
       "    <tr>\n",
       "      <th>23799</th>\n",
       "      <td>2019</td>\n",
       "      <td>6</td>\n",
       "      <td>Professional, scientific and technical service...</td>\n",
       "      <td>226000</td>\n",
       "    </tr>\n",
       "    <tr>\n",
       "      <th>23900</th>\n",
       "      <td>2019</td>\n",
       "      <td>7</td>\n",
       "      <td>Professional, scientific and technical service...</td>\n",
       "      <td>221500</td>\n",
       "    </tr>\n",
       "    <tr>\n",
       "      <th>24001</th>\n",
       "      <td>2019</td>\n",
       "      <td>8</td>\n",
       "      <td>Professional, scientific and technical service...</td>\n",
       "      <td>233750</td>\n",
       "    </tr>\n",
       "    <tr>\n",
       "      <th>24102</th>\n",
       "      <td>2019</td>\n",
       "      <td>9</td>\n",
       "      <td>Professional, scientific and technical service...</td>\n",
       "      <td>226000</td>\n",
       "    </tr>\n",
       "    <tr>\n",
       "      <th>24203</th>\n",
       "      <td>2019</td>\n",
       "      <td>10</td>\n",
       "      <td>Professional, scientific and technical service...</td>\n",
       "      <td>0</td>\n",
       "    </tr>\n",
       "    <tr>\n",
       "      <th>24304</th>\n",
       "      <td>2019</td>\n",
       "      <td>11</td>\n",
       "      <td>Professional, scientific and technical service...</td>\n",
       "      <td>0</td>\n",
       "    </tr>\n",
       "    <tr>\n",
       "      <th>24405</th>\n",
       "      <td>2019</td>\n",
       "      <td>12</td>\n",
       "      <td>Professional, scientific and technical service...</td>\n",
       "      <td>0</td>\n",
       "    </tr>\n",
       "  </tbody>\n",
       "</table>\n",
       "</div>"
      ],
      "text/plain": [
       "       SYEAR  SMTH                                              NAICS  \\\n",
       "23294   2019     1  Professional, scientific and technical service...   \n",
       "23395   2019     2  Professional, scientific and technical service...   \n",
       "23496   2019     3  Professional, scientific and technical service...   \n",
       "23597   2019     4  Professional, scientific and technical service...   \n",
       "23698   2019     5  Professional, scientific and technical service...   \n",
       "23799   2019     6  Professional, scientific and technical service...   \n",
       "23900   2019     7  Professional, scientific and technical service...   \n",
       "24001   2019     8  Professional, scientific and technical service...   \n",
       "24102   2019     9  Professional, scientific and technical service...   \n",
       "24203   2019    10  Professional, scientific and technical service...   \n",
       "24304   2019    11  Professional, scientific and technical service...   \n",
       "24405   2019    12  Professional, scientific and technical service...   \n",
       "\n",
       "       _EMPLOYMENT_  \n",
       "23294        220750  \n",
       "23395        217750  \n",
       "23496        225750  \n",
       "23597        222750  \n",
       "23698        219500  \n",
       "23799        226000  \n",
       "23900        221500  \n",
       "24001        233750  \n",
       "24102        226000  \n",
       "24203             0  \n",
       "24304             0  \n",
       "24405             0  "
      ]
     },
     "execution_count": 33,
     "metadata": {},
     "output_type": "execute_result"
    }
   ],
   "source": [
    "df_3_top_naic[df_3_top_naic.SYEAR==2019]"
   ]
  },
  {
   "cell_type": "code",
   "execution_count": 34,
   "metadata": {},
   "outputs": [
    {
     "data": {
      "text/plain": [
       "0"
      ]
     },
     "execution_count": 34,
     "metadata": {},
     "output_type": "execute_result"
    }
   ],
   "source": [
    "df_3[(df_3.SYEAR==2019) & (df_3.SMTH>9)]._EMPLOYMENT_.sum()"
   ]
  },
  {
   "cell_type": "code",
   "execution_count": 35,
   "metadata": {},
   "outputs": [
    {
     "data": {
      "text/plain": [
       "Text(0,0.5,'No of employees')"
      ]
     },
     "execution_count": 35,
     "metadata": {},
     "output_type": "execute_result"
    },
    {
     "data": {
      "image/png": "[encoded data removed]",
      "text/plain": [
       "<Figure size 720x576 with 1 Axes>"
      ]
     },
     "metadata": {},
     "output_type": "display_data"
    }
   ],
   "source": [
    "df3_year=df_3.groupby('SYEAR')['_EMPLOYMENT_'].sum()\n",
    "df3_year.plot(kind='bar',figsize=(10,8))\n",
    "plt.xlabel('Year')\n",
    "plt.ylabel('No of employees')"
   ]
  },
  {
   "cell_type": "code",
   "execution_count": 36,
   "metadata": {},
   "outputs": [
    {
     "data": {
      "text/plain": [
       "Text(0,0.5,'No of employees')"
      ]
     },
     "execution_count": 36,
     "metadata": {},
     "output_type": "execute_result"
    },
    {
     "data": {
      "image/png": "[encoded data removed]",
      "text/plain": [
       "<Figure size 576x576 with 1 Axes>"
      ]
     },
     "metadata": {},
     "output_type": "display_data"
    }
   ],
   "source": [
    "df3_smth=df_3.groupby('SMTH')['_EMPLOYMENT_'].sum()\n",
    "df3_smth.plot(kind='bar',figsize=(8,8))\n",
    "plt.xlabel('Month')\n",
    "plt.ylabel('No of employees')"
   ]
  },
  {
   "cell_type": "markdown",
   "metadata": {},
   "source": [
    "## 4-digit NAICS Explarotary Data Analyis"
   ]
  },
  {
   "cell_type": "code",
   "execution_count": 38,
   "metadata": {},
   "outputs": [
    {
     "data": {
      "text/html": [
       "<div>\n",
       "<style scoped>\n",
       "    .dataframe tbody tr th:only-of-type {\n",
       "        vertical-align: middle;\n",
       "    }\n",
       "\n",
       "    .dataframe tbody tr th {\n",
       "        vertical-align: top;\n",
       "    }\n",
       "\n",
       "    .dataframe thead th {\n",
       "        text-align: right;\n",
       "    }\n",
       "</style>\n",
       "<table border=\"1\" class=\"dataframe\">\n",
       "  <thead>\n",
       "    <tr style=\"text-align: right;\">\n",
       "      <th></th>\n",
       "      <th>SYEAR</th>\n",
       "      <th>SMTH</th>\n",
       "      <th>NAICS</th>\n",
       "      <th>_EMPLOYMENT_</th>\n",
       "    </tr>\n",
       "  </thead>\n",
       "  <tbody>\n",
       "    <tr>\n",
       "      <th>0</th>\n",
       "      <td>2000</td>\n",
       "      <td>1</td>\n",
       "      <td>1100</td>\n",
       "      <td>500</td>\n",
       "    </tr>\n",
       "    <tr>\n",
       "      <th>1</th>\n",
       "      <td>2000</td>\n",
       "      <td>1</td>\n",
       "      <td>1111</td>\n",
       "      <td>0</td>\n",
       "    </tr>\n",
       "    <tr>\n",
       "      <th>2</th>\n",
       "      <td>2000</td>\n",
       "      <td>1</td>\n",
       "      <td>1112</td>\n",
       "      <td>2000</td>\n",
       "    </tr>\n",
       "    <tr>\n",
       "      <th>3</th>\n",
       "      <td>2000</td>\n",
       "      <td>1</td>\n",
       "      <td>1113</td>\n",
       "      <td>250</td>\n",
       "    </tr>\n",
       "    <tr>\n",
       "      <th>4</th>\n",
       "      <td>2000</td>\n",
       "      <td>1</td>\n",
       "      <td>1114</td>\n",
       "      <td>7750</td>\n",
       "    </tr>\n",
       "  </tbody>\n",
       "</table>\n",
       "</div>"
      ],
      "text/plain": [
       "   SYEAR  SMTH  NAICS  _EMPLOYMENT_\n",
       "0   2000     1   1100           500\n",
       "1   2000     1   1111             0\n",
       "2   2000     1   1112          2000\n",
       "3   2000     1   1113           250\n",
       "4   2000     1   1114          7750"
      ]
     },
     "execution_count": 38,
     "metadata": {},
     "output_type": "execute_result"
    }
   ],
   "source": [
    "joined_list=[]\n",
    "joined_files = os.path.join(m, \"*4NAICS*.csv\")\n",
    "joined_list = glob.glob(joined_files)\n",
    "df_4= pd.concat(map(pd.read_csv, joined_list), ignore_index=True)\n",
    "df_4.head()"
   ]
  },
  {
   "cell_type": "code",
   "execution_count": 39,
   "metadata": {},
   "outputs": [
    {
     "data": {
      "text/plain": [
       "array([1100, 1111, 1112, 1113, 1114, 1119, 1121, 1122, 1123, 1124, 1125,\n",
       "       1129, 1131, 1132, 1133, 1141, 1142, 1151, 1152, 1153, 2100, 2111,\n",
       "       2121, 2122, 2123, 2131, 2211, 2212, 2213, 2361, 2362, 2371, 2372,\n",
       "       2373, 2379, 2381, 2382, 2383, 2389, 3111, 3112, 3113, 3114, 3115,\n",
       "       3116, 3117, 3118, 3119, 3121, 3122, 3131, 3132, 3133, 3141, 3149,\n",
       "       3151, 3152, 3159, 3161, 3162, 3169, 3211, 3212, 3219, 3221, 3222,\n",
       "       3231, 3241, 3251, 3252, 3253, 3254, 3255, 3256, 3259, 3261, 3262,\n",
       "       3271, 3272, 3273, 3274, 3279, 3311, 3312, 3313, 3314, 3315, 3321,\n",
       "       3322, 3323, 3324, 3325, 3326, 3327, 3328, 3329, 3331, 3332, 3333,\n",
       "       3334, 3335, 3336, 3339, 3341, 3342, 3343, 3344, 3345, 3346, 3351,\n",
       "       3352, 3353, 3359, 3361, 3362, 3363, 3364, 3365, 3366, 3369, 3371,\n",
       "       3372, 3379, 3391, 3399, 4111, 4121, 4131, 4132, 4133, 4141, 4142,\n",
       "       4143, 4144, 4145, 4151, 4152, 4153, 4161, 4162, 4163, 4171, 4172,\n",
       "       4173, 4179, 4181, 4182, 4183, 4184, 4189, 4191, 4411, 4412, 4413,\n",
       "       4421, 4422, 4431, 4441, 4442, 4451, 4452, 4453, 4461, 4471, 4481,\n",
       "       4482, 4483, 4511, 4513, 4521, 4529, 4531, 4532, 4533, 4539, 4541,\n",
       "       4542, 4543, 4811, 4812, 4821, 4831, 4832, 4841, 4842, 4851, 4852,\n",
       "       4853, 4854, 4855, 4859, 4861, 4862, 4869, 4871, 4872, 4879, 4881,\n",
       "       4882, 4883, 4884, 4885, 4889, 4911, 4921, 4922, 4931, 5111, 5112,\n",
       "       5121, 5122, 5151, 5152, 5171, 5172, 5174, 5179, 5182, 5191, 5221,\n",
       "       5222, 5223, 5231, 5232, 5239, 5241, 5242, 5261, 5269, 5311, 5312,\n",
       "       5313, 5321, 5322, 5323, 5324, 5331, 5411, 5412, 5413, 5414, 5415,\n",
       "       5416, 5417, 5418, 5419, 5511, 5611, 5613, 5614, 5615, 5616, 5617,\n",
       "       5619, 5621, 5622, 5629, 6111, 6112, 6113, 6114, 6115, 6116, 6117,\n",
       "       6211, 6212, 6213, 6214, 6215, 6216, 6219, 6220, 6230, 6241, 6242,\n",
       "       6243, 6244, 7111, 7112, 7113, 7114, 7115, 7121, 7131, 7132, 7139,\n",
       "       7211, 7212, 7213, 7223, 7224, 7225, 8111, 8112, 8113, 8114, 8121,\n",
       "       8122, 8123, 8129, 8131, 8132, 8133, 8134, 8139, 8141, 9110, 9111,\n",
       "       9120, 9130, 9141, 9191, 5612, 5211], dtype=int64)"
      ]
     },
     "execution_count": 39,
     "metadata": {},
     "output_type": "execute_result"
    }
   ],
   "source": [
    "df_4.NAICS.unique()"
   ]
  },
  {
   "cell_type": "code",
   "execution_count": 40,
   "metadata": {},
   "outputs": [
    {
     "data": {
      "text/plain": [
       "314"
      ]
     },
     "execution_count": 40,
     "metadata": {},
     "output_type": "execute_result"
    }
   ],
   "source": [
    "len(df_4.NAICS.unique())"
   ]
  },
  {
   "cell_type": "code",
   "execution_count": 41,
   "metadata": {},
   "outputs": [
    {
     "data": {
      "text/plain": [
       "NAICS\n",
       "7225    32827500\n",
       "6220    23479000\n",
       "6111    22946750\n",
       "4451    15248250\n",
       "5617    11030500\n",
       "2361    10793000\n",
       "6230    10445250\n",
       "2382    10264250\n",
       "5221    10207000\n",
       "5415     9648250\n",
       "5413     9342250\n",
       "7211     9211000\n",
       "9110     8885250\n",
       "9130     8742500\n",
       "6241     8372750\n",
       "Name: _EMPLOYMENT_, dtype: int64"
      ]
     },
     "execution_count": 41,
     "metadata": {},
     "output_type": "execute_result"
    }
   ],
   "source": [
    "df4_naic=df_4.groupby('NAICS')['_EMPLOYMENT_'].sum().nlargest(15)\n",
    "df4_naic"
   ]
  },
  {
   "cell_type": "code",
   "execution_count": 42,
   "metadata": {},
   "outputs": [
    {
     "data": {
      "text/plain": [
       "Text(0,0.5,'Employment')"
      ]
     },
     "execution_count": 42,
     "metadata": {},
     "output_type": "execute_result"
    },
    {
     "data": {
      "image/png": "[encoded data removed]",
      "text/plain": [
       "<Figure size 720x576 with 1 Axes>"
      ]
     },
     "metadata": {},
     "output_type": "display_data"
    }
   ],
   "source": [
    "df4_naic.plot(kind='bar',figsize=(10,8),title='Employee Count at diffrent 3 digit NAICS')\n",
    "plt.ylabel(\"Employment\")"
   ]
  },
  {
   "cell_type": "code",
   "execution_count": 43,
   "metadata": {},
   "outputs": [
    {
     "name": "stderr",
     "output_type": "stream",
     "text": [
      "C:\\Users\\Drish\\Anaconda3\\lib\\site-packages\\ipykernel_launcher.py:1: UserWarning: Boolean Series key will be reindexed to match DataFrame index.\n",
      "  \"\"\"Entry point for launching an IPython kernel.\n"
     ]
    },
    {
     "data": {
      "text/plain": [
       "SYEAR\n",
       "1997    115250\n",
       "1998     50000\n",
       "1999    124750\n",
       "2000     14500\n",
       "2001    175750\n",
       "2002     19250\n",
       "2003     34000\n",
       "2004    165750\n",
       "2005     45250\n",
       "2006    175500\n",
       "2007     37500\n",
       "2008    189500\n",
       "2009     40250\n",
       "2010    170000\n",
       "2011     36250\n",
       "2012    183750\n",
       "2013     17250\n",
       "2014    210500\n",
       "2015     20250\n",
       "2016     58000\n",
       "2017    151000\n",
       "2018     52000\n",
       "2019     75000\n",
       "Name: _EMPLOYMENT_, dtype: int64"
      ]
     },
     "execution_count": 43,
     "metadata": {},
     "output_type": "execute_result"
    }
   ],
   "source": [
    "df_4_top_naic=df_3[df_4.NAICS==7225]\n",
    "df_4_top_naic.groupby('SYEAR')['_EMPLOYMENT_'].sum()\n"
   ]
  },
  {
   "cell_type": "code",
   "execution_count": 44,
   "metadata": {},
   "outputs": [
    {
     "data": {
      "text/plain": [
       "Text(0,0.5,'numbe of employees')"
      ]
     },
     "execution_count": 44,
     "metadata": {},
     "output_type": "execute_result"
    },
    {
     "data": {
      "image/png": "[encoded data removed]",
      "text/plain": [
       "<Figure size 504x504 with 1 Axes>"
      ]
     },
     "metadata": {},
     "output_type": "display_data"
    }
   ],
   "source": [
    "df_4_top_naic.groupby('SYEAR')['_EMPLOYMENT_'].sum().plot(kind='line',figsize=(7,7))\n",
    "plt.xlabel('year')\n",
    "plt.ylabel('numbe of employees')"
   ]
  },
  {
   "cell_type": "code",
   "execution_count": 45,
   "metadata": {},
   "outputs": [
    {
     "data": {
      "text/html": [
       "<div>\n",
       "<style scoped>\n",
       "    .dataframe tbody tr th:only-of-type {\n",
       "        vertical-align: middle;\n",
       "    }\n",
       "\n",
       "    .dataframe tbody tr th {\n",
       "        vertical-align: top;\n",
       "    }\n",
       "\n",
       "    .dataframe thead th {\n",
       "        text-align: right;\n",
       "    }\n",
       "</style>\n",
       "<table border=\"1\" class=\"dataframe\">\n",
       "  <thead>\n",
       "    <tr style=\"text-align: right;\">\n",
       "      <th></th>\n",
       "      <th>SYEAR</th>\n",
       "      <th>SMTH</th>\n",
       "      <th>NAICS</th>\n",
       "      <th>_EMPLOYMENT_</th>\n",
       "    </tr>\n",
       "  </thead>\n",
       "  <tbody>\n",
       "    <tr>\n",
       "      <th>23376</th>\n",
       "      <td>2019</td>\n",
       "      <td>2</td>\n",
       "      <td>Motor vehicle and parts dealers[441]</td>\n",
       "      <td>37000</td>\n",
       "    </tr>\n",
       "    <tr>\n",
       "      <th>23687</th>\n",
       "      <td>2019</td>\n",
       "      <td>5</td>\n",
       "      <td>Performing arts, spectator sports and related ...</td>\n",
       "      <td>31250</td>\n",
       "    </tr>\n",
       "    <tr>\n",
       "      <th>23998</th>\n",
       "      <td>2019</td>\n",
       "      <td>8</td>\n",
       "      <td>Primary metal manufacturing[331]</td>\n",
       "      <td>6750</td>\n",
       "    </tr>\n",
       "    <tr>\n",
       "      <th>24309</th>\n",
       "      <td>2019</td>\n",
       "      <td>11</td>\n",
       "      <td>Religious, grant-making, civic, and profession...</td>\n",
       "      <td>0</td>\n",
       "    </tr>\n",
       "  </tbody>\n",
       "</table>\n",
       "</div>"
      ],
      "text/plain": [
       "       SYEAR  SMTH                                              NAICS  \\\n",
       "23376   2019     2               Motor vehicle and parts dealers[441]   \n",
       "23687   2019     5  Performing arts, spectator sports and related ...   \n",
       "23998   2019     8                   Primary metal manufacturing[331]   \n",
       "24309   2019    11  Religious, grant-making, civic, and profession...   \n",
       "\n",
       "       _EMPLOYMENT_  \n",
       "23376         37000  \n",
       "23687         31250  \n",
       "23998          6750  \n",
       "24309             0  "
      ]
     },
     "execution_count": 45,
     "metadata": {},
     "output_type": "execute_result"
    }
   ],
   "source": [
    "df_4_top_naic[df_4_top_naic.SYEAR==2019]"
   ]
  },
  {
   "cell_type": "code",
   "execution_count": 46,
   "metadata": {},
   "outputs": [
    {
     "data": {
      "text/html": [
       "<div>\n",
       "<style scoped>\n",
       "    .dataframe tbody tr th:only-of-type {\n",
       "        vertical-align: middle;\n",
       "    }\n",
       "\n",
       "    .dataframe tbody tr th {\n",
       "        vertical-align: top;\n",
       "    }\n",
       "\n",
       "    .dataframe thead th {\n",
       "        text-align: right;\n",
       "    }\n",
       "</style>\n",
       "<table border=\"1\" class=\"dataframe\">\n",
       "  <thead>\n",
       "    <tr style=\"text-align: right;\">\n",
       "      <th></th>\n",
       "      <th>SYEAR</th>\n",
       "      <th>SMTH</th>\n",
       "      <th>NAICS</th>\n",
       "      <th>_EMPLOYMENT_</th>\n",
       "    </tr>\n",
       "  </thead>\n",
       "  <tbody>\n",
       "    <tr>\n",
       "      <th>22131</th>\n",
       "      <td>2018</td>\n",
       "      <td>2</td>\n",
       "      <td>Electrical equipment, appliance and component ...</td>\n",
       "      <td>4500</td>\n",
       "    </tr>\n",
       "    <tr>\n",
       "      <th>22443</th>\n",
       "      <td>2018</td>\n",
       "      <td>5</td>\n",
       "      <td>Food, beverage and tobacco merchant wholesaler...</td>\n",
       "      <td>13750</td>\n",
       "    </tr>\n",
       "    <tr>\n",
       "      <th>22754</th>\n",
       "      <td>2018</td>\n",
       "      <td>8</td>\n",
       "      <td>Heavy and civil engineering construction[237]</td>\n",
       "      <td>25750</td>\n",
       "    </tr>\n",
       "    <tr>\n",
       "      <th>23065</th>\n",
       "      <td>2018</td>\n",
       "      <td>11</td>\n",
       "      <td>Machinery manufacturing[333]</td>\n",
       "      <td>8000</td>\n",
       "    </tr>\n",
       "  </tbody>\n",
       "</table>\n",
       "</div>"
      ],
      "text/plain": [
       "       SYEAR  SMTH                                              NAICS  \\\n",
       "22131   2018     2  Electrical equipment, appliance and component ...   \n",
       "22443   2018     5  Food, beverage and tobacco merchant wholesaler...   \n",
       "22754   2018     8      Heavy and civil engineering construction[237]   \n",
       "23065   2018    11                       Machinery manufacturing[333]   \n",
       "\n",
       "       _EMPLOYMENT_  \n",
       "22131          4500  \n",
       "22443         13750  \n",
       "22754         25750  \n",
       "23065          8000  "
      ]
     },
     "execution_count": 46,
     "metadata": {},
     "output_type": "execute_result"
    }
   ],
   "source": [
    "df_4_top_naic[df_4_top_naic.SYEAR==2018]"
   ]
  },
  {
   "cell_type": "code",
   "execution_count": 47,
   "metadata": {},
   "outputs": [
    {
     "data": {
      "text/plain": [
       "0"
      ]
     },
     "execution_count": 47,
     "metadata": {},
     "output_type": "execute_result"
    }
   ],
   "source": [
    "df_4[(df_4.SYEAR==2019) & (df_4.SMTH>9)]._EMPLOYMENT_.sum()"
   ]
  },
  {
   "cell_type": "code",
   "execution_count": 48,
   "metadata": {},
   "outputs": [
    {
     "data": {
      "text/plain": [
       "Text(0,0.5,'No of employees')"
      ]
     },
     "execution_count": 48,
     "metadata": {},
     "output_type": "execute_result"
    },
    {
     "data": {
      "image/png": "[encoded data removed]",
      "text/plain": [
       "<Figure size 576x576 with 1 Axes>"
      ]
     },
     "metadata": {},
     "output_type": "display_data"
    }
   ],
   "source": [
    "df4_year=df_4.groupby('SYEAR')['_EMPLOYMENT_'].sum()\n",
    "df4_year.plot(kind='bar',figsize=(8,8))\n",
    "plt.xlabel('Year')\n",
    "plt.ylabel('No of employees')"
   ]
  },
  {
   "cell_type": "code",
   "execution_count": 49,
   "metadata": {},
   "outputs": [
    {
     "data": {
      "text/plain": [
       "Text(0,0.5,'No of employees')"
      ]
     },
     "execution_count": 49,
     "metadata": {},
     "output_type": "execute_result"
    },
    {
     "data": {
      "image/png": "[encoded data removed]",
      "text/plain": [
       "<Figure size 576x576 with 1 Axes>"
      ]
     },
     "metadata": {},
     "output_type": "display_data"
    }
   ],
   "source": [
    "df4_smth=df_4.groupby('SMTH')['_EMPLOYMENT_'].sum()\n",
    "df4_smth.plot(kind='bar',figsize=(8,8))\n",
    "plt.xlabel('Month')\n",
    "plt.ylabel('No of employees')"
   ]
  },
  {
   "cell_type": "markdown",
   "metadata": {},
   "source": [
    "# Combined Analysis"
   ]
  },
  {
   "cell_type": "code",
   "execution_count": 51,
   "metadata": {},
   "outputs": [],
   "source": [
    "df_2['NAICS']=df_2.NAICS.str.extract('\\[(.*?)\\]')"
   ]
  },
  {
   "cell_type": "code",
   "execution_count": 52,
   "metadata": {},
   "outputs": [
    {
     "data": {
      "text/html": [
       "<div>\n",
       "<style scoped>\n",
       "    .dataframe tbody tr th:only-of-type {\n",
       "        vertical-align: middle;\n",
       "    }\n",
       "\n",
       "    .dataframe tbody tr th {\n",
       "        vertical-align: top;\n",
       "    }\n",
       "\n",
       "    .dataframe thead th {\n",
       "        text-align: right;\n",
       "    }\n",
       "</style>\n",
       "<table border=\"1\" class=\"dataframe\">\n",
       "  <thead>\n",
       "    <tr style=\"text-align: right;\">\n",
       "      <th></th>\n",
       "      <th>SYEAR</th>\n",
       "      <th>SMTH</th>\n",
       "      <th>NAICS</th>\n",
       "      <th>_EMPLOYMENT_</th>\n",
       "    </tr>\n",
       "  </thead>\n",
       "  <tbody>\n",
       "    <tr>\n",
       "      <th>0</th>\n",
       "      <td>2000</td>\n",
       "      <td>1</td>\n",
       "      <td>72</td>\n",
       "      <td>148000</td>\n",
       "    </tr>\n",
       "    <tr>\n",
       "      <th>1</th>\n",
       "      <td>2000</td>\n",
       "      <td>1</td>\n",
       "      <td>56</td>\n",
       "      <td>59250</td>\n",
       "    </tr>\n",
       "    <tr>\n",
       "      <th>2</th>\n",
       "      <td>2000</td>\n",
       "      <td>1</td>\n",
       "      <td>11</td>\n",
       "      <td>61750</td>\n",
       "    </tr>\n",
       "    <tr>\n",
       "      <th>3</th>\n",
       "      <td>2000</td>\n",
       "      <td>1</td>\n",
       "      <td>71</td>\n",
       "      <td>39500</td>\n",
       "    </tr>\n",
       "    <tr>\n",
       "      <th>4</th>\n",
       "      <td>2000</td>\n",
       "      <td>1</td>\n",
       "      <td>23</td>\n",
       "      <td>106250</td>\n",
       "    </tr>\n",
       "  </tbody>\n",
       "</table>\n",
       "</div>"
      ],
      "text/plain": [
       "   SYEAR  SMTH NAICS  _EMPLOYMENT_\n",
       "0   2000     1    72        148000\n",
       "1   2000     1    56         59250\n",
       "2   2000     1    11         61750\n",
       "3   2000     1    71         39500\n",
       "4   2000     1    23        106250"
      ]
     },
     "execution_count": 52,
     "metadata": {},
     "output_type": "execute_result"
    }
   ],
   "source": [
    "df_2.head()"
   ]
  },
  {
   "cell_type": "code",
   "execution_count": 53,
   "metadata": {},
   "outputs": [],
   "source": [
    "df_3['NAICS']=df_3.NAICS.str.extract('\\[(.*?)\\]')"
   ]
  },
  {
   "cell_type": "code",
   "execution_count": 54,
   "metadata": {},
   "outputs": [
    {
     "data": {
      "text/html": [
       "<div>\n",
       "<style scoped>\n",
       "    .dataframe tbody tr th:only-of-type {\n",
       "        vertical-align: middle;\n",
       "    }\n",
       "\n",
       "    .dataframe tbody tr th {\n",
       "        vertical-align: top;\n",
       "    }\n",
       "\n",
       "    .dataframe thead th {\n",
       "        text-align: right;\n",
       "    }\n",
       "</style>\n",
       "<table border=\"1\" class=\"dataframe\">\n",
       "  <thead>\n",
       "    <tr style=\"text-align: right;\">\n",
       "      <th></th>\n",
       "      <th>SYEAR</th>\n",
       "      <th>SMTH</th>\n",
       "      <th>NAICS</th>\n",
       "      <th>_EMPLOYMENT_</th>\n",
       "    </tr>\n",
       "  </thead>\n",
       "  <tbody>\n",
       "    <tr>\n",
       "      <th>0</th>\n",
       "      <td>2000</td>\n",
       "      <td>1</td>\n",
       "      <td>914</td>\n",
       "      <td>500</td>\n",
       "    </tr>\n",
       "    <tr>\n",
       "      <th>1</th>\n",
       "      <td>2000</td>\n",
       "      <td>1</td>\n",
       "      <td>721</td>\n",
       "      <td>33750</td>\n",
       "    </tr>\n",
       "    <tr>\n",
       "      <th>2</th>\n",
       "      <td>2000</td>\n",
       "      <td>1</td>\n",
       "      <td>561</td>\n",
       "      <td>55250</td>\n",
       "    </tr>\n",
       "    <tr>\n",
       "      <th>3</th>\n",
       "      <td>2000</td>\n",
       "      <td>1</td>\n",
       "      <td>481</td>\n",
       "      <td>17500</td>\n",
       "    </tr>\n",
       "    <tr>\n",
       "      <th>4</th>\n",
       "      <td>2000</td>\n",
       "      <td>1</td>\n",
       "      <td>621</td>\n",
       "      <td>53000</td>\n",
       "    </tr>\n",
       "  </tbody>\n",
       "</table>\n",
       "</div>"
      ],
      "text/plain": [
       "   SYEAR  SMTH NAICS  _EMPLOYMENT_\n",
       "0   2000     1   914           500\n",
       "1   2000     1   721         33750\n",
       "2   2000     1   561         55250\n",
       "3   2000     1   481         17500\n",
       "4   2000     1   621         53000"
      ]
     },
     "execution_count": 54,
     "metadata": {},
     "output_type": "execute_result"
    }
   ],
   "source": [
    "df_3.head()"
   ]
  },
  {
   "cell_type": "code",
   "execution_count": 55,
   "metadata": {},
   "outputs": [
    {
     "data": {
      "text/html": [
       "<div>\n",
       "<style scoped>\n",
       "    .dataframe tbody tr th:only-of-type {\n",
       "        vertical-align: middle;\n",
       "    }\n",
       "\n",
       "    .dataframe tbody tr th {\n",
       "        vertical-align: top;\n",
       "    }\n",
       "\n",
       "    .dataframe thead th {\n",
       "        text-align: right;\n",
       "    }\n",
       "</style>\n",
       "<table border=\"1\" class=\"dataframe\">\n",
       "  <thead>\n",
       "    <tr style=\"text-align: right;\">\n",
       "      <th></th>\n",
       "      <th>SYEAR</th>\n",
       "      <th>SMTH</th>\n",
       "      <th>NAICS</th>\n",
       "      <th>_EMPLOYMENT_</th>\n",
       "    </tr>\n",
       "  </thead>\n",
       "  <tbody>\n",
       "    <tr>\n",
       "      <th>0</th>\n",
       "      <td>2000</td>\n",
       "      <td>1</td>\n",
       "      <td>1100</td>\n",
       "      <td>500</td>\n",
       "    </tr>\n",
       "    <tr>\n",
       "      <th>1</th>\n",
       "      <td>2000</td>\n",
       "      <td>1</td>\n",
       "      <td>1111</td>\n",
       "      <td>0</td>\n",
       "    </tr>\n",
       "    <tr>\n",
       "      <th>2</th>\n",
       "      <td>2000</td>\n",
       "      <td>1</td>\n",
       "      <td>1112</td>\n",
       "      <td>2000</td>\n",
       "    </tr>\n",
       "    <tr>\n",
       "      <th>3</th>\n",
       "      <td>2000</td>\n",
       "      <td>1</td>\n",
       "      <td>1113</td>\n",
       "      <td>250</td>\n",
       "    </tr>\n",
       "    <tr>\n",
       "      <th>4</th>\n",
       "      <td>2000</td>\n",
       "      <td>1</td>\n",
       "      <td>1114</td>\n",
       "      <td>7750</td>\n",
       "    </tr>\n",
       "  </tbody>\n",
       "</table>\n",
       "</div>"
      ],
      "text/plain": [
       "   SYEAR  SMTH  NAICS  _EMPLOYMENT_\n",
       "0   2000     1   1100           500\n",
       "1   2000     1   1111             0\n",
       "2   2000     1   1112          2000\n",
       "3   2000     1   1113           250\n",
       "4   2000     1   1114          7750"
      ]
     },
     "execution_count": 55,
     "metadata": {},
     "output_type": "execute_result"
    }
   ],
   "source": [
    "df_4.head()"
   ]
  },
  {
   "cell_type": "code",
   "execution_count": 67,
   "metadata": {},
   "outputs": [
    {
     "data": {
      "text/html": [
       "<div>\n",
       "<style scoped>\n",
       "    .dataframe tbody tr th:only-of-type {\n",
       "        vertical-align: middle;\n",
       "    }\n",
       "\n",
       "    .dataframe tbody tr th {\n",
       "        vertical-align: top;\n",
       "    }\n",
       "\n",
       "    .dataframe thead th {\n",
       "        text-align: right;\n",
       "    }\n",
       "</style>\n",
       "<table border=\"1\" class=\"dataframe\">\n",
       "  <thead>\n",
       "    <tr style=\"text-align: right;\">\n",
       "      <th></th>\n",
       "      <th>SYEAR</th>\n",
       "      <th>SMTH</th>\n",
       "      <th>NAICS</th>\n",
       "      <th>_EMPLOYMENT_</th>\n",
       "    </tr>\n",
       "  </thead>\n",
       "  <tbody>\n",
       "    <tr>\n",
       "      <th>0</th>\n",
       "      <td>2000</td>\n",
       "      <td>1</td>\n",
       "      <td>72</td>\n",
       "      <td>148000</td>\n",
       "    </tr>\n",
       "    <tr>\n",
       "      <th>1</th>\n",
       "      <td>2000</td>\n",
       "      <td>1</td>\n",
       "      <td>56</td>\n",
       "      <td>59250</td>\n",
       "    </tr>\n",
       "    <tr>\n",
       "      <th>2</th>\n",
       "      <td>2000</td>\n",
       "      <td>1</td>\n",
       "      <td>11</td>\n",
       "      <td>61750</td>\n",
       "    </tr>\n",
       "    <tr>\n",
       "      <th>3</th>\n",
       "      <td>2000</td>\n",
       "      <td>1</td>\n",
       "      <td>71</td>\n",
       "      <td>39500</td>\n",
       "    </tr>\n",
       "    <tr>\n",
       "      <th>4</th>\n",
       "      <td>2000</td>\n",
       "      <td>1</td>\n",
       "      <td>23</td>\n",
       "      <td>106250</td>\n",
       "    </tr>\n",
       "  </tbody>\n",
       "</table>\n",
       "</div>"
      ],
      "text/plain": [
       "   SYEAR  SMTH NAICS  _EMPLOYMENT_\n",
       "0   2000     1    72        148000\n",
       "1   2000     1    56         59250\n",
       "2   2000     1    11         61750\n",
       "3   2000     1    71         39500\n",
       "4   2000     1    23        106250"
      ]
     },
     "execution_count": 67,
     "metadata": {},
     "output_type": "execute_result"
    }
   ],
   "source": [
    "final=pd.concat([df_2,df_3,df_4],axis=0)\n",
    "final.head()"
   ]
  },
  {
   "cell_type": "code",
   "execution_count": 68,
   "metadata": {},
   "outputs": [
    {
     "name": "stdout",
     "output_type": "stream",
     "text": [
      "<class 'pandas.core.frame.DataFrame'>\n",
      "Int64Index: 119184 entries, 0 to 85571\n",
      "Data columns (total 4 columns):\n",
      "SYEAR           119184 non-null int64\n",
      "SMTH            119184 non-null int64\n",
      "NAICS           118632 non-null object\n",
      "_EMPLOYMENT_    119184 non-null int64\n",
      "dtypes: int64(3), object(1)\n",
      "memory usage: 4.5+ MB\n"
     ]
    }
   ],
   "source": [
    "final.info()"
   ]
  },
  {
   "cell_type": "code",
   "execution_count": 69,
   "metadata": {},
   "outputs": [
    {
     "name": "stdout",
     "output_type": "stream",
     "text": [
      "<class 'pandas.core.frame.DataFrame'>\n",
      "Int64Index: 118632 entries, 0 to 85571\n",
      "Data columns (total 4 columns):\n",
      "SYEAR           118632 non-null int64\n",
      "SMTH            118632 non-null int64\n",
      "NAICS           118632 non-null object\n",
      "_EMPLOYMENT_    118632 non-null int64\n",
      "dtypes: int64(3), object(1)\n",
      "memory usage: 4.5+ MB\n"
     ]
    }
   ],
   "source": [
    "final.dropna(subset = [\"NAICS\"],inplace=True)\n",
    "final.info()"
   ]
  },
  {
   "cell_type": "code",
   "execution_count": 64,
   "metadata": {},
   "outputs": [
    {
     "data": {
      "text/html": [
       "<div>\n",
       "<style scoped>\n",
       "    .dataframe tbody tr th:only-of-type {\n",
       "        vertical-align: middle;\n",
       "    }\n",
       "\n",
       "    .dataframe tbody tr th {\n",
       "        vertical-align: top;\n",
       "    }\n",
       "\n",
       "    .dataframe thead th {\n",
       "        text-align: right;\n",
       "    }\n",
       "</style>\n",
       "<table border=\"1\" class=\"dataframe\">\n",
       "  <thead>\n",
       "    <tr style=\"text-align: right;\">\n",
       "      <th></th>\n",
       "      <th>SYEAR</th>\n",
       "      <th>SMTH</th>\n",
       "      <th>NAICS</th>\n",
       "      <th>_EMPLOYMENT_</th>\n",
       "    </tr>\n",
       "  </thead>\n",
       "  <tbody>\n",
       "    <tr>\n",
       "      <th>0</th>\n",
       "      <td>2000</td>\n",
       "      <td>1</td>\n",
       "      <td>72</td>\n",
       "      <td>148000</td>\n",
       "    </tr>\n",
       "    <tr>\n",
       "      <th>1</th>\n",
       "      <td>2000</td>\n",
       "      <td>1</td>\n",
       "      <td>56</td>\n",
       "      <td>59250</td>\n",
       "    </tr>\n",
       "    <tr>\n",
       "      <th>2</th>\n",
       "      <td>2000</td>\n",
       "      <td>1</td>\n",
       "      <td>11</td>\n",
       "      <td>61750</td>\n",
       "    </tr>\n",
       "    <tr>\n",
       "      <th>3</th>\n",
       "      <td>2000</td>\n",
       "      <td>1</td>\n",
       "      <td>71</td>\n",
       "      <td>39500</td>\n",
       "    </tr>\n",
       "    <tr>\n",
       "      <th>4</th>\n",
       "      <td>2000</td>\n",
       "      <td>1</td>\n",
       "      <td>23</td>\n",
       "      <td>106250</td>\n",
       "    </tr>\n",
       "  </tbody>\n",
       "</table>\n",
       "</div>"
      ],
      "text/plain": [
       "   SYEAR  SMTH NAICS  _EMPLOYMENT_\n",
       "0   2000     1    72        148000\n",
       "1   2000     1    56         59250\n",
       "2   2000     1    11         61750\n",
       "3   2000     1    71         39500\n",
       "4   2000     1    23        106250"
      ]
     },
     "execution_count": 64,
     "metadata": {},
     "output_type": "execute_result"
    }
   ],
   "source": [
    "final.head()"
   ]
  },
  {
   "cell_type": "code",
   "execution_count": 65,
   "metadata": {},
   "outputs": [],
   "source": [
    "final_top_naic=final.groupby('NAICS')['_EMPLOYMENT_'].sum().nlargest(20)"
   ]
  },
  {
   "cell_type": "code",
   "execution_count": 66,
   "metadata": {},
   "outputs": [
    {
     "data": {
      "text/plain": [
       "Text(0,0.5,'Employment')"
      ]
     },
     "execution_count": 66,
     "metadata": {},
     "output_type": "execute_result"
    },
    {
     "data": {
      "image/png": "[encoded data removed]",
      "text/plain": [
       "<Figure size 720x432 with 1 Axes>"
      ]
     },
     "metadata": {},
     "output_type": "display_data"
    }
   ],
   "source": [
    "\n",
    "final_top_naic.plot(kind='bar',figsize=(10,6),title='Employee Count of diffrent NAICS')\n",
    "plt.ylabel(\"Employment\")"
   ]
  },
  {
   "cell_type": "code",
   "execution_count": null,
   "metadata": {},
   "outputs": [],
   "source": []
  }
 ],
 "metadata": {
  "kernelspec": {
   "display_name": "Python 3",
   "language": "python",
   "name": "python3"
  },
  "language_info": {
   "codemirror_mode": {
    "name": "ipython",
    "version": 3
   },
   "file_extension": ".py",
   "mimetype": "text/x-python",
   "name": "python",
   "nbconvert_exporter": "python",
   "pygments_lexer": "ipython3",
   "version": "3.6.5"
  }
 },
 "nbformat": 4,
 "nbformat_minor": 2
}
