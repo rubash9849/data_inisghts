{
 "cells": [
  {
   "cell_type": "markdown",
   "metadata": {},
   "source": [
    "# 1 Creating a list"
   ]
  },
  {
   "cell_type": "code",
   "execution_count": 22,
   "metadata": {},
   "outputs": [
    {
     "name": "stdout",
     "output_type": "stream",
     "text": [
      "['Mac', 'Windows', 'Linux']\n"
     ]
    }
   ],
   "source": [
    "\n",
    "list_example=[\"Mac\",\"Windows\",\"Linux\"]\n",
    "print(list_example)\n"
   ]
  },
  {
   "cell_type": "code",
   "execution_count": 23,
   "metadata": {},
   "outputs": [
    {
     "name": "stdout",
     "output_type": "stream",
     "text": [
      "<class 'list'>\n"
     ]
    }
   ],
   "source": [
    "print(type(list_example))"
   ]
  },
  {
   "cell_type": "code",
   "execution_count": 24,
   "metadata": {},
   "outputs": [],
   "source": [
    "empty_list=[] #empty list"
   ]
  },
  {
   "cell_type": "markdown",
   "metadata": {},
   "source": [
    "# 2 Diffrent List  Type"
   ]
  },
  {
   "cell_type": "code",
   "execution_count": 25,
   "metadata": {},
   "outputs": [],
   "source": [
    "list1=[\"apple\",\"mango\",\"orage\"] # list of strings\n",
    "list2=[1,2,3]                   # list of integers\n",
    "list3=[True,False,False]        # Boolean List\n",
    "\n"
   ]
  },
  {
   "cell_type": "code",
   "execution_count": 26,
   "metadata": {},
   "outputs": [],
   "source": [
    "mix_list=[\"apple\",2,False]"
   ]
  },
  {
   "cell_type": "markdown",
   "metadata": {},
   "source": [
    "# 3 Accessing List Elements\n"
   ]
  },
  {
   "cell_type": "code",
   "execution_count": 27,
   "metadata": {},
   "outputs": [],
   "source": [
    "list1=[\"apple\",\"mango\",\"orange\",\"grape\",\"banana\"]"
   ]
  },
  {
   "cell_type": "code",
   "execution_count": 28,
   "metadata": {},
   "outputs": [
    {
     "name": "stdout",
     "output_type": "stream",
     "text": [
      "apple\n",
      "mango\n",
      "banana\n"
     ]
    }
   ],
   "source": [
    "print(list1[0])\n",
    "print(list1[1])\n",
    "print(list1[-1])"
   ]
  },
  {
   "cell_type": "code",
   "execution_count": 29,
   "metadata": {},
   "outputs": [
    {
     "name": "stdout",
     "output_type": "stream",
     "text": [
      "['mango', 'orange']\n"
     ]
    }
   ],
   "source": [
    "# Sliciing\n",
    "# Start index : End index (Exclusive)\n",
    "list1=[\"apple\",\"mango\",\"orange\",\"grape\",\"banana\"]\n",
    "print(list1[1:3]) "
   ]
  },
  {
   "cell_type": "markdown",
   "metadata": {},
   "source": [
    "# 4 Changning List Elements\n"
   ]
  },
  {
   "cell_type": "code",
   "execution_count": 30,
   "metadata": {},
   "outputs": [
    {
     "name": "stdout",
     "output_type": "stream",
     "text": [
      "['HP', 'Dell', 'MSI', 'Lenovo']\n",
      "['Acer', 'Dell', 'MSI', 'Lenovo']\n"
     ]
    }
   ],
   "source": [
    "my_list=[\"HP\",\"Dell\",\"MSI\",\"Lenovo\"]\n",
    "print(my_list)\n",
    "my_list[0]=\"Acer\"\n",
    "print(my_list)"
   ]
  },
  {
   "cell_type": "code",
   "execution_count": 31,
   "metadata": {},
   "outputs": [
    {
     "name": "stdout",
     "output_type": "stream",
     "text": [
      "['Asus', 'Acer', 'MSI', 'Lenovo']\n"
     ]
    }
   ],
   "source": [
    "my_list=[\"HP\",\"Dell\",\"MSI\",\"Lenovo\"]\n",
    "my_list[0:2]=[\"Asus\",\"Acer\"]\n",
    "print(my_list)\n"
   ]
  },
  {
   "cell_type": "markdown",
   "metadata": {},
   "source": [
    "# 5 Adding New Element to List"
   ]
  },
  {
   "cell_type": "code",
   "execution_count": 32,
   "metadata": {},
   "outputs": [
    {
     "name": "stdout",
     "output_type": "stream",
     "text": [
      "['HP', 'Dell', 'MSI', 'Lenovo', 'Acer']\n"
     ]
    }
   ],
   "source": [
    "my_list=[\"HP\",\"Dell\",\"MSI\",\"Lenovo\"]\n",
    "my_list.append(\"Acer\")\n",
    "print(my_list)"
   ]
  },
  {
   "cell_type": "code",
   "execution_count": 33,
   "metadata": {},
   "outputs": [
    {
     "name": "stdout",
     "output_type": "stream",
     "text": [
      "['HP', 'Dell', 'MSI', 'Lenovo', 'Acer']\n"
     ]
    }
   ],
   "source": [
    "list1=[\"HP\",\"Dell\",\"MSI\"]\n",
    "list2=[\"Lenovo\",\"Acer\"]\n",
    "list1.extend(list2)\n",
    "print(list1)"
   ]
  },
  {
   "cell_type": "markdown",
   "metadata": {},
   "source": [
    "# 6 Removing Element From a List"
   ]
  },
  {
   "cell_type": "code",
   "execution_count": 34,
   "metadata": {},
   "outputs": [
    {
     "name": "stdout",
     "output_type": "stream",
     "text": [
      "['HP', 'MSI', 'Lenovo']\n"
     ]
    }
   ],
   "source": [
    "my_list=[\"HP\",\"Dell\",\"MSI\",\"Lenovo\"]\n",
    "my_list.pop(1)\n",
    "print(my_list)"
   ]
  },
  {
   "cell_type": "code",
   "execution_count": 35,
   "metadata": {},
   "outputs": [
    {
     "name": "stdout",
     "output_type": "stream",
     "text": [
      "['HP', 'Dell', 'Lenovo']\n"
     ]
    }
   ],
   "source": [
    "my_list=[\"HP\",\"Dell\",\"MSI\",\"Lenovo\"]\n",
    "my_list.remove(\"MSI\")\n",
    "print(my_list)"
   ]
  },
  {
   "cell_type": "markdown",
   "metadata": {},
   "source": [
    "# 7 Loop Through The List"
   ]
  },
  {
   "cell_type": "code",
   "execution_count": 36,
   "metadata": {},
   "outputs": [
    {
     "name": "stdout",
     "output_type": "stream",
     "text": [
      "HP\n",
      "Dell\n",
      "MSI\n",
      "Lenovo\n"
     ]
    }
   ],
   "source": [
    "my_list=[\"HP\",\"Dell\",\"MSI\",\"Lenovo\"]\n",
    "for item in my_list:\n",
    "    print(item)"
   ]
  },
  {
   "cell_type": "code",
   "execution_count": 37,
   "metadata": {},
   "outputs": [
    {
     "name": "stdout",
     "output_type": "stream",
     "text": [
      "List Item at Index 0 is HP\n",
      "List Item at Index 1 is Dell\n",
      "List Item at Index 2 is MSI\n",
      "List Item at Index 3 is Lenovo\n"
     ]
    }
   ],
   "source": [
    "my_list=[\"HP\",\"Dell\",\"MSI\",\"Lenovo\"]\n",
    "for i in range(0,len(my_list)):\n",
    "    print(\"List Item at Index \"+ str(i)+\" is \"+my_list[i])"
   ]
  }
 ],
 "metadata": {
  "kernelspec": {
   "display_name": "Python 3",
   "language": "python",
   "name": "python3"
  },
  "language_info": {
   "codemirror_mode": {
    "name": "ipython",
    "version": 3
   },
   "file_extension": ".py",
   "mimetype": "text/x-python",
   "name": "python",
   "nbconvert_exporter": "python",
   "pygments_lexer": "ipython3",
   "version": "3.6.5"
  }
 },
 "nbformat": 4,
 "nbformat_minor": 2
}
