{
 "cells": [
  {
   "cell_type": "markdown",
   "metadata": {},
   "source": [
    "# 1 Population and Sample"
   ]
  },
  {
   "cell_type": "code",
   "execution_count": 4,
   "metadata": {},
   "outputs": [],
   "source": [
    "import numpy as np \n",
    "from statistics import mode\n",
    "from scipy.stats import norm\n",
    "import scipy\n",
    "import random\n",
    "import matplotlib.pyplot as plt"
   ]
  },
  {
   "cell_type": "code",
   "execution_count": 128,
   "metadata": {},
   "outputs": [
    {
     "name": "stdout",
     "output_type": "stream",
     "text": [
      "[ 0  2  4  6  8 10 12 14 16 18 20 22 24 26 28 30 32 34 36 38 40 42 44 46\n",
      " 48 50 52 54 56 58 60 62 64 66 68 70 72 74 76 78 80 82 84 86 88 90 92 94\n",
      " 96 98]\n"
     ]
    }
   ],
   "source": [
    "\n",
    "population=np.arange(0,100,2)\n",
    "print(population)"
   ]
  },
  {
   "cell_type": "code",
   "execution_count": 132,
   "metadata": {},
   "outputs": [
    {
     "name": "stdout",
     "output_type": "stream",
     "text": [
      "[34 52 24 34 56 70 32 16 32 12]\n"
     ]
    }
   ],
   "source": [
    "#sampling randomly with replacement\n",
    "sample=np.random.choice(population,10)\n",
    "print(sample)"
   ]
  },
  {
   "cell_type": "code",
   "execution_count": 30,
   "metadata": {},
   "outputs": [
    {
     "name": "stdout",
     "output_type": "stream",
     "text": [
      "[44 28 70 48 74 68 82 66 54 38]\n"
     ]
    }
   ],
   "source": [
    "#sampling randomly without replacement\n",
    "sample=np.random.choice(population,10,replace=False)\n",
    "print(sample)"
   ]
  },
  {
   "cell_type": "markdown",
   "metadata": {},
   "source": [
    "# 2 Measure of Central Tendency"
   ]
  },
  {
   "cell_type": "code",
   "execution_count": 45,
   "metadata": {},
   "outputs": [
    {
     "name": "stdout",
     "output_type": "stream",
     "text": [
      "3.0 2.0 2\n"
     ]
    }
   ],
   "source": [
    "\n",
    "population=[1,2,2,2,5,6]\n",
    "mean=np.mean(population)\n",
    "median=np.median(population)\n",
    "mode=mode(population)\n",
    "print(mean,median,mode)"
   ]
  },
  {
   "cell_type": "markdown",
   "metadata": {},
   "source": [
    "# 3 Measure of Dispersion"
   ]
  },
  {
   "cell_type": "code",
   "execution_count": 46,
   "metadata": {},
   "outputs": [
    {
     "name": "stdout",
     "output_type": "stream",
     "text": [
      "1.8257418583505538\n"
     ]
    }
   ],
   "source": [
    "standard_deviation=np.std(population)\n",
    "print(standard_deviation)"
   ]
  },
  {
   "cell_type": "code",
   "execution_count": 47,
   "metadata": {},
   "outputs": [
    {
     "name": "stdout",
     "output_type": "stream",
     "text": [
      "5\n"
     ]
    }
   ],
   "source": [
    "def find_range(value_list):\n",
    "    maximum=max(value_list)\n",
    "    minimum=min(value_list)\n",
    "    rangee=maximum-minimum\n",
    "    return rangee\n",
    "print(find_range(population))"
   ]
  },
  {
   "cell_type": "code",
   "execution_count": 51,
   "metadata": {},
   "outputs": [
    {
     "name": "stdout",
     "output_type": "stream",
     "text": [
      "2.25\n"
     ]
    }
   ],
   "source": [
    "q1 ,q3= np.percentile(population, [25,75])\n",
    "iqr = q3 - q1\n",
    "print(iqr)"
   ]
  },
  {
   "cell_type": "markdown",
   "metadata": {},
   "source": [
    "# 4 Covariance and Correlation"
   ]
  },
  {
   "cell_type": "code",
   "execution_count": 135,
   "metadata": {},
   "outputs": [
    {
     "name": "stdout",
     "output_type": "stream",
     "text": [
      "correlation is 0.9701425001453321\n",
      "covariance is 1.6\n"
     ]
    }
   ],
   "source": [
    "def find_cov_corr(x,y):\n",
    "    mean_x = sum(x) / len(x)\n",
    "    mean_y = sum(y) / len(y)\n",
    "    cov_sum=0\n",
    "    for i in range(0,len(x)):\n",
    "        cov_sum +=(x[i]-mean_x) * (y[i]-mean_y)\n",
    "    covariance=cov_sum/len(x)\n",
    "    correl=covariance/(np.std(x)*np.std(y))\n",
    "    print('correlation is',correl)\n",
    "    print('covariance is',covariance)\n",
    "x_coordinates = [1, 2, 3, 4, 5]\n",
    "y_coordinates = [2, 2, 3, 4, 5]\n",
    "find_cov_corr(x_coordinates,y_coordinates)"
   ]
  },
  {
   "cell_type": "markdown",
   "metadata": {},
   "source": [
    "# 5 Nomral Distribution"
   ]
  },
  {
   "cell_type": "code",
   "execution_count": 32,
   "metadata": {},
   "outputs": [
    {
     "data": {
      "image/png": "[encoded data removed]",
      "text/plain": [
       "<Figure size 432x288 with 1 Axes>"
      ]
     },
     "metadata": {},
     "output_type": "display_data"
    }
   ],
   "source": [
    "mu, sigma = 55,15\n",
    "s = np.random.normal(mu, sigma, 1000)\n",
    "plt.hist(s)\n",
    "plt.show()"
   ]
  },
  {
   "cell_type": "code",
   "execution_count": 42,
   "metadata": {},
   "outputs": [
    {
     "name": "stdout",
     "output_type": "stream",
     "text": [
      "0.0477903522728147\n"
     ]
    }
   ],
   "source": [
    "\n",
    "# Probability of person being < 30\n",
    "prob_less_30 = norm.cdf(30,mu,sigma)\n",
    "\n",
    "print(prob_less_30)"
   ]
  },
  {
   "cell_type": "code",
   "execution_count": 43,
   "metadata": {},
   "outputs": [
    {
     "name": "stdout",
     "output_type": "stream",
     "text": [
      "0.8413447460685429\n"
     ]
    }
   ],
   "source": [
    "#Probability of person being  30\n",
    "prob_over_40= 1-norm.cdf(40,mu, sigma)\n",
    "\n",
    "print(prob_over_40)"
   ]
  },
  {
   "cell_type": "code",
   "execution_count": 44,
   "metadata": {},
   "outputs": [
    {
     "name": "stdout",
     "output_type": "stream",
     "text": [
      "0.14883992530281173\n"
     ]
    }
   ],
   "source": [
    "#Probability of person being between 20 to 40\n",
    "prob_20_to_40 = norm.cdf(40,mu, sigma)-norm.cdf(20,mu, sigma)\n",
    "\n",
    "print(prob_20_to_40)"
   ]
  },
  {
   "cell_type": "markdown",
   "metadata": {},
   "source": [
    "# 6 Central Limit Theorem"
   ]
  },
  {
   "cell_type": "code",
   "execution_count": 118,
   "metadata": {},
   "outputs": [
    {
     "data": {
      "image/png": "[encoded data removed]",
      "text/plain": [
       "<Figure size 432x288 with 1 Axes>"
      ]
     },
     "metadata": {},
     "output_type": "display_data"
    }
   ],
   "source": [
    "import matplotlib.pyplot as plt\n",
    "numpy.random.seed(1)\n",
    "data=np.random.rand(1000)\n",
    "plt.hist(data)\n",
    "plt.show()"
   ]
  },
  {
   "cell_type": "code",
   "execution_count": 68,
   "metadata": {},
   "outputs": [],
   "source": [
    "import random\n",
    "sample_size = [10, 50, 100,200,400,600]\n",
    "means=[]\n",
    "for i in range(0,len(sample_size)):\n",
    "    dyy=[]\n",
    "    for j in range(0,sample_size[i]):\n",
    "        temp=random.choices(data, k=150)\n",
    "        dyy.append(np.mean(temp))\n",
    "    means.append(dyy)\n",
    "        \n"
   ]
  },
  {
   "cell_type": "code",
   "execution_count": 91,
   "metadata": {},
   "outputs": [
    {
     "data": {
      "image/png": "[encoded data removed]",
      "text/plain": [
       "<Figure size 1440x720 with 6 Axes>"
      ]
     },
     "metadata": {},
     "output_type": "display_data"
    }
   ],
   "source": [
    "ncols = 3\n",
    "nrows =2\n",
    "fig, axes = plt.subplots(nrows=nrows, ncols=ncols, figsize=(20, 10))\n",
    "k=0\n",
    "for i in range(nrows):\n",
    "    for j in range(ncols):\n",
    "        ax = axes[i][j]\n",
    "        ax.hist(means[k])\n",
    "        ax.set_title(label = 'Number of samples=' +str(sample_size[k]))\n",
    "        k=k+1\n",
    "plt.show()\n",
    "    \n",
    "\n"
   ]
  },
  {
   "cell_type": "markdown",
   "metadata": {},
   "source": [
    "# 7 Q-Q plot"
   ]
  },
  {
   "cell_type": "code",
   "execution_count": 123,
   "metadata": {},
   "outputs": [
    {
     "data": {
      "image/png": "[encoded data removed]",
      "text/plain": [
       "<Figure size 432x288 with 1 Axes>"
      ]
     },
     "metadata": {},
     "output_type": "display_data"
    }
   ],
   "source": [
    "\n",
    "\n",
    "scipy.stats.probplot(data, dist=\"norm\", plot=plt)\n",
    "plt.show()\n"
   ]
  },
  {
   "cell_type": "code",
   "execution_count": 124,
   "metadata": {},
   "outputs": [
    {
     "data": {
      "image/png": "[encoded data removed]",
      "text/plain": [
       "<Figure size 432x288 with 1 Axes>"
      ]
     },
     "metadata": {},
     "output_type": "display_data"
    }
   ],
   "source": [
    "s = np.random.normal(mu, sigma, 1000)\n",
    "scipy.stats.probplot(s, dist=\"norm\", plot=plt)\n",
    "plt.show()\n"
   ]
  }
 ],
 "metadata": {
  "kernelspec": {
   "display_name": "Python 3",
   "language": "python",
   "name": "python3"
  },
  "language_info": {
   "codemirror_mode": {
    "name": "ipython",
    "version": 3
   },
   "file_extension": ".py",
   "mimetype": "text/x-python",
   "name": "python",
   "nbconvert_exporter": "python",
   "pygments_lexer": "ipython3",
   "version": "3.6.5"
  }
 },
 "nbformat": 4,
 "nbformat_minor": 2
}
