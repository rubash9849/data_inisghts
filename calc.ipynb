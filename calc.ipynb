{
 "cells": [
  {
   "cell_type": "code",
   "execution_count": 4,
   "metadata": {},
   "outputs": [],
   "source": [
    "def calculator():\n",
    "    flag= 0\n",
    "    user_input=7\n",
    "    while(flag==0):\n",
    "        try:\n",
    "            user_input=int(input(\"Enter\\n1 for addition\\n2 for subtraction \\n3 for multiplication\\\n",
    "            \\n4 for division \\n5 for modulus\\\n",
    "            \\nAny other character to exit \"))\n",
    "        except ValueError:\n",
    "                print(\"The input was not a valid integer.\")\n",
    "        if user_input not in range(1,6):\n",
    "            print(\"Exiting\")\n",
    "            flag=1\n",
    "        else:\n",
    "            try:\n",
    "                first=float(input(\"Enter the first numnber:\"))\n",
    "                second=float(input(\"Enter the second numnber:\"))\n",
    "            except ValueError:\n",
    "                print(\"The input was not a number\")\n",
    "            if (user_input==1):\n",
    "                print(str(first) +\" + \" +str(second) +\" = \"+str(first+second))\n",
    "            if (user_input==2):\n",
    "                print(str(first) +\" - \" +str(second) +\" = \"+str(first-second))\n",
    "            if (user_input==3):\n",
    "                print(str(first) +\" * \" +str(second) +\" = \"+str(first*second))\n",
    "            if (user_input==4):\n",
    "                print(str(first) +\" / \" +str(second) +\" = \"+str(first/second))\n",
    "            if (user_input==5):\n",
    "                print(str(first) +\" % \" +str(second) +\" = \"+str(first%second))"
   ]
  },
  {
   "cell_type": "code",
   "execution_count": 3,
   "metadata": {},
   "outputs": [
    {
     "name": "stdout",
     "output_type": "stream",
     "text": [
      "Enter\n",
      "1 for addition\n",
      "2 for subtraction \n",
      "3 for multiplication            \n",
      "4 for division \n",
      "5 for modulus            \n",
      "Any other character to exit 1\n",
      "Enter the first numnber:1\n",
      "Enter the second numnber:2\n",
      "1.0 + 2.0 = 3.0\n",
      "Enter\n",
      "1 for addition\n",
      "2 for subtraction \n",
      "3 for multiplication            \n",
      "4 for division \n",
      "5 for modulus            \n",
      "Any other character to exit 8\n",
      "Exiting\n"
     ]
    }
   ],
   "source": [
    "calculator()"
   ]
  }
 ],
 "metadata": {
  "kernelspec": {
   "display_name": "Python 3",
   "language": "python",
   "name": "python3"
  },
  "language_info": {
   "codemirror_mode": {
    "name": "ipython",
    "version": 3
   },
   "file_extension": ".py",
   "mimetype": "text/x-python",
   "name": "python",
   "nbconvert_exporter": "python",
   "pygments_lexer": "ipython3",
   "version": "3.6.5"
  }
 },
 "nbformat": 4,
 "nbformat_minor": 2
}
