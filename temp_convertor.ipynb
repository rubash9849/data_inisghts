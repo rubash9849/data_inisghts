{
 "cells": [
  {
   "cell_type": "code",
   "execution_count": 8,
   "metadata": {},
   "outputs": [],
   "source": [
    "def temp_convertor():\n",
    "    flag= 0\n",
    "    user_input=3\n",
    "    while(flag==0):\n",
    "        try:\n",
    "            user_input=int(input(\"Enter\\n1 for Fahrenheit to Celsius\\n2 for Celsius To Fahrenheit conversion \\nAny other character to exit \"))\n",
    "        except ValueError:\n",
    "                print(\"The input was not a valid integer.\")\n",
    "        if user_input not in range(1,3):\n",
    "            print(\"Exiting\")\n",
    "            flag=1\n",
    "        else:\n",
    "            try:\n",
    "                value=float(input(\"Enter the tempreaure for conversion:\"))\n",
    "            except ValueError:\n",
    "                print(\"The input was not a number\")\n",
    "            if (user_input==1):\n",
    "                Celsius = (value-32) * 5/9\n",
    "\n",
    "                print(str(value) +\" F is \" +str(Celsius) +\" C \")\n",
    "            if (user_input==2):\n",
    "                Fahrenheit = (value * 9/5) + 32\n",
    "                print(str(value) +\" C is \" +str(Fahrenheit) +\" F \")"
   ]
  },
  {
   "cell_type": "code",
   "execution_count": 7,
   "metadata": {},
   "outputs": [
    {
     "name": "stdout",
     "output_type": "stream",
     "text": [
      "Enter\n",
      "1 for Fahrenheit to Celsius                    \n",
      "2 for Celsius To Fahrenheit conversion                    \n",
      "Any other character to exit 2\n",
      "Enter the tempreaure in Celsius for conversion:32\n",
      "32.0 C is 89.6 F \n"
     ]
    }
   ],
   "source": [
    "user_input=int(input(\"Enter\\n1 for Fahrenheit to Celsius\\\n",
    "                    \\n2 for Celsius To Fahrenheit conversion\\\n",
    "                    \\nAny other character to exit \"))\n",
    "\n",
    "if (user_input==1):\n",
    "    value=float(input(\"Enter the tempreaure in Fahrenheit  for conversion:\"))\n",
    "    Celsius = (value-32) * 5/9\n",
    "    print(str(value) +\" F is \" +str(Celsius) +\" C \")\n",
    "if (user_input==2):\n",
    "    value=float(input(\"Enter the tempreaure in Celsius for conversion:\"))\n",
    "    Fahrenheit = (value * 9/5) + 32\n",
    "    print(str(value) +\" C is \" +str(Fahrenheit) +\" F \")\n",
    "else:\n",
    "    print('Exiting')\n"
   ]
  },
  {
   "cell_type": "code",
   "execution_count": null,
   "metadata": {},
   "outputs": [],
   "source": []
  },
  {
   "cell_type": "code",
   "execution_count": null,
   "metadata": {},
   "outputs": [],
   "source": []
  },
  {
   "cell_type": "code",
   "execution_count": null,
   "metadata": {},
   "outputs": [],
   "source": []
  },
  {
   "cell_type": "code",
   "execution_count": null,
   "metadata": {},
   "outputs": [],
   "source": []
  }
 ],
 "metadata": {
  "kernelspec": {
   "display_name": "Python 3",
   "language": "python",
   "name": "python3"
  },
  "language_info": {
   "codemirror_mode": {
    "name": "ipython",
    "version": 3
   },
   "file_extension": ".py",
   "mimetype": "text/x-python",
   "name": "python",
   "nbconvert_exporter": "python",
   "pygments_lexer": "ipython3",
   "version": "3.6.5"
  }
 },
 "nbformat": 4,
 "nbformat_minor": 2
}
